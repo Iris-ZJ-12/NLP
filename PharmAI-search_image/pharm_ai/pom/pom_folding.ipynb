{
 "cells": [
  {
   "cell_type": "code",
   "execution_count": 1,
   "id": "d127a2e1-b322-4b2d-94b9-23091cb7700d",
   "metadata": {},
   "outputs": [
    {
     "name": "stderr",
     "output_type": "stream",
     "text": [
      "<ipython-input-1-f073da56db55>:7: TqdmExperimentalWarning: Using `tqdm.autonotebook.tqdm` in notebook mode. Use `tqdm.tqdm` instead to force console mode (e.g. in jupyter console)\n",
      "  from tqdm.autonotebook import tqdm\n"
     ]
    }
   ],
   "source": [
    "import re\n",
    "import string\n",
    "import random\n",
    "\n",
    "from tqdm.autonotebook import tqdm\n",
    "from sentence_transformers import SentenceTransformer\n",
    "from harvesttext import HarvestText\n",
    "from openpyxl.cell.cell import ILLEGAL_CHARACTERS_RE\n",
    "from utils.io import read_pickle\n",
    "from utils.sbert_class import PretrainedSBERT\n",
    "from utils.milvus_client import MilvusHelper\n",
    "from simcse import unsup_simcse\n",
    "\n",
    "\n",
    "# timestamp\n",
    "AWEEK = 604800 * 1000\n",
    "AMONTH = 2629743 * 1000"
   ]
  },
  {
   "cell_type": "code",
   "execution_count": 2,
   "id": "c9bfcbee-6987-4f24-9b4d-cfdc43f2f529",
   "metadata": {},
   "outputs": [
    {
     "data": {
      "text/plain": [
       "{'title': '缓解膝关节炎疼痛，力量训练要加强度吗？JAMA发表长期临床试验数据',\n",
       " 'publish_time': 1614229098000,\n",
       " 'esid': '23a180035e76ee6419214b03d953565f'}"
      ]
     },
     "execution_count": 2,
     "metadata": {},
     "output_type": "execute_result"
    }
   ],
   "source": [
    "library = read_pickle('data/small_library.pkl')\n",
    "library[1]"
   ]
  },
  {
   "cell_type": "markdown",
   "id": "d06c354f-9243-48ea-b251-9876b00363cb",
   "metadata": {},
   "source": [
    "### Prepare pre-training data for simCSE"
   ]
  },
  {
   "cell_type": "code",
   "execution_count": null,
   "id": "73e29939-c8dc-4b91-bfb8-414974f1990d",
   "metadata": {},
   "outputs": [],
   "source": [
    "punc = \"！？｡。＂＃＄％＆＇（）＊＋，－／：；＜＝＞＠［＼］＾＿｀｛丨｜|｝～｟｠｢｣､、〃《》「」『』【】〔〕〖〗〘〙〚〛〜〝〞〟〰〾〿–—‘’‛“”„‟…‧﹏.\"\n",
    "punc += string.punctuation\n",
    "\n",
    "\n",
    "def remove_punc(s: str) -> str:\n",
    "    s = re.sub(r\"[%s]+\" %punc, \"\", s)\n",
    "    s = s.replace(\" \", \"\")\n",
    "    return s\n",
    "\n",
    "'''\n",
    "First use some rules to detect possible duplicate titles.\n",
    "Use remaining artitle contents as pre-training corpus.\n",
    "'''\n",
    "title = set()\n",
    "unique_ids = set()\n",
    "\n",
    "def check_dup(t:str) -> bool:\n",
    "    \"\"\" Return True if duplicate else False\n",
    "    \"\"\"\n",
    "    if t in title:\n",
    "        return True\n",
    "    for t_ in title:\n",
    "        if (t in t_ or t_ in t) and abs(len(t)-len(t_)) <= 3:\n",
    "            return True\n",
    "    return False\n",
    "\n",
    "for d in tqdm(library):\n",
    "    t = remove_punc(d['title'])\n",
    "    if not check_dup(t):\n",
    "        title.add(t)\n",
    "        unique_ids.add(d['esid'])\n",
    "print(len(unique_ids))"
   ]
  },
  {
   "cell_type": "code",
   "execution_count": null,
   "id": "daafb267-640c-4c98-bd5b-ce7c8b0b4662",
   "metadata": {},
   "outputs": [],
   "source": [
    "raw = read_pickle('data/library_raw.pkl')\n",
    "ht = HarvestText()\n",
    "\n",
    "def clean_and_cut(doc):\n",
    "    doc = ht.clean_text(doc).replace(\"\\xa0\", \"\").replace('▲', \"\")\n",
    "    doc = ILLEGAL_CHARACTERS_RE.sub(r'', doc)\n",
    "    doc = doc.replace('\\u200b', '')\n",
    "    doc = doc.replace('\\ufeff', '')\n",
    "    doc = doc.replace('\\ue601', '')\n",
    "    sents = ht.cut_sentences(doc)\n",
    "    sents = [s.lstrip('*').strip() for s in sents]\n",
    "    sents = [s for s in sents if '微信' not in s and not s.startswith(\"图\") and len(s) >= 10]#[:10]\n",
    "    return sents\n",
    "\n",
    "train_sentences = []\n",
    "for d in tqdm(raw):\n",
    "    if d['esid'] not in unique_ids:\n",
    "        continue\n",
    "    raw_content = d['content']\n",
    "    train_sentences += clean_and_cut(raw_content)\n",
    "\n",
    "print(len(train_sentences))\n",
    "train_sentences = list(set(train_sentences))\n",
    "print(len(train_sentences))"
   ]
  },
  {
   "cell_type": "markdown",
   "id": "af06570b-ba87-4a6e-a213-a5ef9c664754",
   "metadata": {},
   "source": [
    "### Define and pre-trained model"
   ]
  },
  {
   "cell_type": "code",
   "execution_count": 3,
   "id": "0c627985-1550-4334-9ce9-a4f5aaef58f9",
   "metadata": {},
   "outputs": [],
   "source": [
    "model = PretrainedSBERT.MPnet\n",
    "model.path = 'outputs/simcse-pom-mpnet'\n",
    "sbert = SentenceTransformer(model.path, device='cuda:3')"
   ]
  },
  {
   "cell_type": "code",
   "execution_count": null,
   "id": "143ea361-5020-47b6-9e36-d30796223720",
   "metadata": {},
   "outputs": [],
   "source": [
    "unsup_simcse(sbert, train_sentences)"
   ]
  },
  {
   "cell_type": "code",
   "execution_count": null,
   "id": "80b565c6-7579-44e9-b1c3-2a92f866ff74",
   "metadata": {},
   "outputs": [],
   "source": [
    "sbert.save('outputs/simcse-pom-mpnet')"
   ]
  },
  {
   "cell_type": "markdown",
   "id": "08f8d010-90d0-4cdd-99c3-3e2e49db5ec6",
   "metadata": {},
   "source": [
    "### Encode titles"
   ]
  },
  {
   "cell_type": "code",
   "execution_count": 4,
   "id": "fbfecd6e-b55e-4e6d-8972-9130251b48aa",
   "metadata": {},
   "outputs": [
    {
     "data": {
      "application/vnd.jupyter.widget-view+json": {
       "model_id": "d1ccd7fcbae445d4a4ec4d41a5f5853b",
       "version_major": 2,
       "version_minor": 0
      },
      "text/plain": [
       "Batches:   0%|          | 0/112 [00:00<?, ?it/s]"
      ]
     },
     "metadata": {},
     "output_type": "display_data"
    }
   ],
   "source": [
    "vecs = sbert.encode(\n",
    "    [d['title'].replace(' ', '') for d in library],\n",
    "    batch_size=128,\n",
    "    show_progress_bar=True,\n",
    "    normalize_embeddings=True\n",
    ")"
   ]
  },
  {
   "cell_type": "markdown",
   "id": "bf04b520-34b8-40ad-8535-4c7f3586581d",
   "metadata": {},
   "source": [
    "### Save vectors into Milvus"
   ]
  },
  {
   "cell_type": "code",
   "execution_count": 5,
   "id": "546ca414-b390-44a8-8d91-5971f4a39720",
   "metadata": {},
   "outputs": [
    {
     "name": "stdout",
     "output_type": "stream",
     "text": [
      "Status(code=0, message='Success')\n",
      "drop collection Status(code=0, message='Delete collection successfully!')\n",
      "create collection pom_news_title with size 768 Status(code=0, message='Create collection successfully!')\n",
      "insert 14237 records Status(code=0, message='Add vectors successfully!')\n",
      "create index Status(code=0, message='Build index successfully!')\n"
     ]
    }
   ],
   "source": [
    "milvus = MilvusHelper(dimension=model.dim, clear_collection=True)\n",
    "\n",
    "# insert and index\n",
    "milvusids = milvus.insert(vecs)\n",
    "milvus.create_index()"
   ]
  },
  {
   "cell_type": "code",
   "execution_count": 6,
   "id": "06133520-3edc-428f-a907-44d876e22918",
   "metadata": {},
   "outputs": [],
   "source": [
    "for i, news in enumerate(library):\n",
    "    news['milvusid'] = milvusids[i]\n",
    "\n",
    "milvusid_2_news = {milvusids[i]: library[i] for i in range(len(library))}"
   ]
  },
  {
   "cell_type": "code",
   "execution_count": 7,
   "id": "e6cbc811-8dcf-4d22-9ed6-7828d24a3bb8",
   "metadata": {},
   "outputs": [
    {
     "data": {
      "text/plain": [
       "{'title': '一劳永逸，预防所有冠状病毒感染？《自然》今日报道全新“纳米疫苗”',\n",
       " 'publish_time': 1620685930000,\n",
       " 'esid': 'ceb4cd13acf2094d8e85a9d03df3670d',\n",
       " 'milvusid': 1625476390551559000}"
      ]
     },
     "execution_count": 7,
     "metadata": {},
     "output_type": "execute_result"
    }
   ],
   "source": [
    "library[0]"
   ]
  },
  {
   "cell_type": "markdown",
   "id": "19363fc1-1885-446a-b048-ae32169c9ff5",
   "metadata": {},
   "source": [
    "### Searching"
   ]
  },
  {
   "cell_type": "code",
   "execution_count": 8,
   "id": "435ad693-68b3-433e-9064-1c6178715325",
   "metadata": {},
   "outputs": [],
   "source": [
    "def result_filter(results, selfid, timestamp, score_threshold):\n",
    "    '''\n",
    "    Inputs: secondary milvus result and others\n",
    "    Returns: matched docs and scores\n",
    "    '''\n",
    "    matched = []\n",
    "    for res in results:\n",
    "        score = res.distance\n",
    "        if score < score_threshold:\n",
    "            break\n",
    "        candidate = milvusid_2_news[res.id]\n",
    "        cts = candidate['publish_time']\n",
    "        if cts and \\\n",
    "        cts > timestamp - AWEEK and \\\n",
    "        cts < timestamp + AWEEK and \\\n",
    "        candidate['milvusid'] != selfid:\n",
    "            matched.append((candidate, res.distance))\n",
    "    return matched"
   ]
  },
  {
   "cell_type": "code",
   "execution_count": 9,
   "id": "23e32092-fe8a-40e4-92a5-4ecb16352e3d",
   "metadata": {},
   "outputs": [],
   "source": [
    "idx = 199\n",
    "query = list(vecs[idx])\n",
    "news = library[idx]\n",
    "result = milvus.search(top_k=100, query=[query])"
   ]
  },
  {
   "cell_type": "code",
   "execution_count": 10,
   "id": "18e4a41e-b837-4f68-bf98-f4d4776a6abb",
   "metadata": {},
   "outputs": [
    {
     "name": "stdout",
     "output_type": "stream",
     "text": [
      "{'title': '《细胞》子刊：运动的好处能通过胎盘传给宝宝！科学家发现，小鼠运动会刺激胎盘分泌SOD3，改善子代肝脏代谢功能丨科学大发现', 'publish_time': 1618829921000, 'esid': '88e9e4ee39f780517fb66e45bfca5911', 'milvusid': 1625476390551559199}\n"
     ]
    }
   ],
   "source": [
    "print(news)\n",
    "filtered = result_filter(result[0], news['milvusid'], news['publish_time'], 0.6)\n",
    "for x, y in filtered:\n",
    "    print(x, y)"
   ]
  },
  {
   "cell_type": "code",
   "execution_count": 11,
   "id": "e86d58bb-8819-454e-aa8f-8d887b900cb0",
   "metadata": {},
   "outputs": [],
   "source": [
    "ids = []\n",
    "matches = []\n",
    "while len(ids) < 10:\n",
    "    idx = random.choice(list(range(len(vecs))))\n",
    "    query = list(vecs[idx])\n",
    "    news = library[idx]\n",
    "    if not news['publish_time'] or not news['milvusid']:\n",
    "        continue\n",
    "    result = milvus.search(top_k=100, query=[query])\n",
    "    filtered = result_filter(result[0], news['milvusid'], news['publish_time'], 0.6)\n",
    "    if len(filtered) > 0:\n",
    "        ids.append(idx)\n",
    "        matches.append(filtered)"
   ]
  },
  {
   "cell_type": "code",
   "execution_count": 12,
   "id": "7bfb745e-ac3b-45ef-ac53-aceca1d316ba",
   "metadata": {},
   "outputs": [
    {
     "name": "stdout",
     "output_type": "stream",
     "text": [
      "----------------------\n",
      "{'title': '人工智能用于药物研发，优势、潜力与挑战', 'publish_time': 1622304000000, 'esid': '1a370dec019a42fbe037f349366a79d9', 'milvusid': 1625476390551571542}\n",
      "{'title': '人工智能在药物研发中的应用', 'publish_time': 1622162341000, 'esid': 'cc6b1a5d135428139e48b648b0d46397', 'milvusid': 1625476390551567116} 0.6512377858161926\n",
      "----------------------\n",
      "{'title': '君实生物PD-1/TGF-β 双功能融合蛋白获批临床', 'publish_time': 1620368903000, 'esid': '8db12714d18846c48bad435aaa8482ec', 'milvusid': 1625476390551572567}\n",
      "{'title': '首个PD-1/TGFβ双抗获批临床：君实生物JS201', 'publish_time': 1620300792000, 'esid': '2dce3627ff67a2fbea38335c6d332d89', 'milvusid': 1625476390551579586} 0.7328601479530334\n",
      "----------------------\n",
      "{'title': '2021 AACR|蓝鸟报告溶瘤病毒可增强CAR-T疗法抗实体瘤疗效', 'publish_time': 1618460429000, 'esid': '46786b3080fc24929decbc8d9cf6a76a', 'milvusid': 1625476390551579560}\n",
      "{'title': 'BioNews | Bluebird-PsiOxus：发布溶瘤病毒增强CAR-T细胞疗法在实体瘤中的疗效', 'publish_time': 1618919301000, 'esid': '80dbed72fc6069597044482e093adbaf', 'milvusid': 1625476390551559772} 0.6581480503082275\n",
      "----------------------\n",
      "{'title': '【首发】宇道生物完成2000万美元A轮融资，建设国际领先变构药物智能化研发平台和管线', 'publish_time': 1623683632000, 'esid': 'e42c9d1c538cf631cc594ac10feb55a5', 'milvusid': 1625476390551570612}\n",
      "{'title': '宇道生物完成2000万美元A轮融资', 'publish_time': 1623746941000, 'esid': '2022305e5acb56dc42d9ff3b303dfe1a', 'milvusid': 1625476390551570746} 0.7181841731071472\n",
      "----------------------\n",
      "{'title': 'Nature重磅：全球癌症细胞治疗研发管线汇总，增长迅速、中美领跑', 'publish_time': 1623587970000, 'esid': 'a9b5d97afd6f6214502557461003089c', 'milvusid': 1625476390551582631}\n",
      "{'title': 'Nature重磅：全球癌症细胞治疗研发管线汇总，增长迅速、中美领跑', 'publish_time': 1623296834000, 'esid': '7bbe71b1946b0c18d6a25916fc3614c4', 'milvusid': 1625476390551582642} 1.0\n",
      "{'title': 'Nature重磅：全球癌症细胞治疗研发管线汇总，增长迅速、中美领跑', 'publish_time': 1623402518000, 'esid': 'd97803be729ee934a377240425e076c3', 'milvusid': 1625476390551582653} 1.0\n",
      "{'title': 'Nature重磅：全球癌症细胞治疗研发管线汇总，增长迅速、中美领跑', 'publish_time': 1623340800000, 'esid': '221aad9298a75f71ce4f290cc4a3654b', 'milvusid': 1625476390551572025} 0.9999999403953552\n",
      "{'title': 'Nature重磅：全球癌症细胞治疗研发管线汇总，增长迅速、中美领跑', 'publish_time': 1623418763000, 'esid': '4bf1814299f769ce9a9452fe50a6b225', 'milvusid': 1625476390551571837} 0.9999999403953552\n",
      "{'title': '全球癌症细胞治疗研发管线汇总：增长迅速、中美领跑 | Nature重磅', 'publish_time': 1623749419000, 'esid': '4757581702564562e2c2e2a2a34a4b0d', 'milvusid': 1625476390551581479} 0.9039003849029541\n",
      "----------------------\n",
      "{'title': '研发 | 泛癌种早检万人研究启动 助力多维液体活检技术', 'publish_time': 1621930242000, 'esid': 'c796dd291ec820d60ff994fca707e54a', 'milvusid': 1625476390551570522}\n",
      "{'title': '研发|泛癌种早检万人研究启动助力多维液体活检技术', 'publish_time': 1621930243000, 'esid': '53ceb73b0059560c33721f7ba48c066a', 'milvusid': 1625476390551564945} 1.0\n",
      "----------------------\n",
      "{'title': '财报|卫材2020年财报：中国区持续增长，仑伐替尼、吡仑帕奈进入国家医保', 'publish_time': 1621403233000, 'esid': '28addf28ca163ab3a277fbd7b19e025f', 'milvusid': 1625476390551566719}\n",
      "{'title': '财报 | 卫材2020年财报：中国区持续增长，仑伐替尼、吡仑帕奈进入国家医保', 'publish_time': 1621403232000, 'esid': 'd89a68269a91d113dba762ec5f1d6b2e', 'milvusid': 1625476390551563571} 0.9999997615814209\n",
      "----------------------\n",
      "{'title': '重磅！第五批国采，开标时间定了（附所有品种报量）', 'publish_time': 1622624792000, 'esid': 'f4b7a286484196418451b58a2047f810', 'milvusid': 1625476390551580544}\n",
      "{'title': '定了！第五批国采开标时间、入围品种、中标规则...', 'publish_time': 1622626414000, 'esid': '7282ed8c765d55b7b4135bec158a8f84', 'milvusid': 1625476390551567832} 0.7861689329147339\n",
      "{'title': '重磅！第五批国家药品集采来了！', 'publish_time': 1622627549000, 'esid': '58e294a341db8460123fd40784a57dca', 'milvusid': 1625476390551580816} 0.714073896408081\n",
      "{'title': '第五批国采品种5月过评情况汇总（附完整清单下载）', 'publish_time': 1622304000000, 'esid': 'e4075ab6b8b36ae7053465d4c9128d5c', 'milvusid': 1625476390551566937} 0.6417680978775024\n",
      "{'title': '第五批国采报量品种最新竞争格局来了！', 'publish_time': 1622131200000, 'esid': 'e7b134c6fdb313e7181a524608feb8e1', 'milvusid': 1625476390551567668} 0.6269196271896362\n",
      "{'title': '第五批国采官宣！这62个品种，本月开标……', 'publish_time': 1622648028000, 'esid': '96bfff22abfe5c9f63decdeae013a464', 'milvusid': 1625476390551567740} 0.6046112775802612\n",
      "{'title': '第五批集采品种和时间刚刚敲定', 'publish_time': 1622626439000, 'esid': '26d6e87a1c5b31758ef40712500ec52a', 'milvusid': 1625476390551580483} 0.6032732129096985\n",
      "----------------------\n",
      "{'title': '2021第一季度FDA新药 (一)', 'publish_time': 1618529821000, 'esid': 'b4563f16fdad0bf5eae82691013af5a2', 'milvusid': 1625476390551564424}\n",
      "{'title': '2021一季度FDA新药 (二)', 'publish_time': 1618632517000, 'esid': '3cf0b956fbf038c15a67a68613749c1d', 'milvusid': 1625476390551578533} 0.8965554237365723\n",
      "{'title': '2021一季度FDA新药 (三)', 'publish_time': 1618962407000, 'esid': '1007445732309dfe56e861f545252964', 'milvusid': 1625476390551563043} 0.8682569265365601\n",
      "----------------------\n",
      "{'title': 'CRO公司2020年业绩大比拼：药明康德收入最高，泰格医药员工最能赚钱', 'publish_time': 1620038014000, 'esid': '80c89f76437d428d0f6570319ff11096', 'milvusid': 1625476390551578155}\n",
      "{'title': 'CRO公司2020年业绩大比拼：药明康德收入最高，泰格医药员工最能赚钱', 'publish_time': 1620083192000, 'esid': 'da3074254ab5021d5126c6ff416e7d49', 'milvusid': 1625476390551572709} 1.0\n",
      "{'title': 'CRO公司2020年业绩大比拼：药明康德收入最高，泰格医药员工最能赚钱', 'publish_time': 1620007177000, 'esid': 'fc71a32956085f8c61759e5a76e0eaa7', 'milvusid': 1625476390551563018} 1.0\n"
     ]
    }
   ],
   "source": [
    "for i in range(len(ids)):\n",
    "    print(\"----------------------\")\n",
    "    print(library[ids[i]])\n",
    "    for x, y in matches[i]:\n",
    "        print(x, y)"
   ]
  },
  {
   "cell_type": "code",
   "execution_count": null,
   "id": "7f7b0771-8ddb-408c-b5e2-af394cac9241",
   "metadata": {},
   "outputs": [],
   "source": []
  }
 ],
 "metadata": {
  "kernelspec": {
   "display_name": "Python 3",
   "language": "python",
   "name": "python3"
  },
  "language_info": {
   "codemirror_mode": {
    "name": "ipython",
    "version": 3
   },
   "file_extension": ".py",
   "mimetype": "text/x-python",
   "name": "python",
   "nbconvert_exporter": "python",
   "pygments_lexer": "ipython3",
   "version": "3.8.10"
  },
  "toc-autonumbering": false,
  "toc-showcode": false,
  "toc-showmarkdowntxt": false,
  "toc-showtags": false
 },
 "nbformat": 4,
 "nbformat_minor": 5
}