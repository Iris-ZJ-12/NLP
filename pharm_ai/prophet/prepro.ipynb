{
 "cells": [
  {
   "cell_type": "code",
   "execution_count": 129,
   "outputs": [],
   "source": [
    "# use to reload edited file\n",
    "%load_ext autoreload\n",
    "\n",
    "%autoreload 2"
   ],
   "metadata": {
    "collapsed": false,
    "pycharm": {
     "name": "#%%\n"
    }
   }
  },
  {
   "cell_type": "markdown",
   "metadata": {
    "collapsed": true,
    "pycharm": {
     "name": "#%% md\n"
    }
   },
   "source": [
    "# Preprocess prophet dataset\n",
    "## v3.2\n",
    "### preprocess raw dataset"
   ]
  },
  {
   "cell_type": "code",
   "execution_count": 27,
   "outputs": [
    {
     "data": {
      "text/plain": "                               esid       prefix  \\\n0  52e10537cd0eb295f23391d5274b9002  news_filter   \n1  5dc35789ed5eb6c700a735ff4e600097  news_filter   \n2  c698937f8670b0e6763dd929c1fdb6ec  news_filter   \n3  684faad1f4de34127cf1101d8767a332  news_filter   \n4   999c03bc10f03d7f88b87806f213d0b  news_filter   \n\n                                          input_text target_text  \n0  全球投融资周报(2018.8.31-9.6)丨 百度视频宣布完成1亿美元B轮融资;大搜车获5...          医药  \n1  医疗机构领健完成数千万 B+轮融资,美团点评领投 | IT桔子周报 编辑：王炜本周共计发生 ...          医药  \n2  9月10日临创投资晨报 以下市场资讯由临创投资研究所整理摘要：1、宏观经济与政策：中国8月出...          医药  \n3  民祥医药完成C轮融资,估值超10亿元 兴富资本投资的新三板公司民祥医药(833004)喜获C...          医药  \n4  线闻|下一代肿瘤免疫新锐药企“寻百会生物”获数千万元新一轮融资 小线菌2018年10月1日，...          医药  ",
      "text/html": "<div>\n<style scoped>\n    .dataframe tbody tr th:only-of-type {\n        vertical-align: middle;\n    }\n\n    .dataframe tbody tr th {\n        vertical-align: top;\n    }\n\n    .dataframe thead th {\n        text-align: right;\n    }\n</style>\n<table border=\"1\" class=\"dataframe\">\n  <thead>\n    <tr style=\"text-align: right;\">\n      <th></th>\n      <th>esid</th>\n      <th>prefix</th>\n      <th>input_text</th>\n      <th>target_text</th>\n    </tr>\n  </thead>\n  <tbody>\n    <tr>\n      <th>0</th>\n      <td>52e10537cd0eb295f23391d5274b9002</td>\n      <td>news_filter</td>\n      <td>全球投融资周报(2018.8.31-9.6)丨 百度视频宣布完成1亿美元B轮融资;大搜车获5...</td>\n      <td>医药</td>\n    </tr>\n    <tr>\n      <th>1</th>\n      <td>5dc35789ed5eb6c700a735ff4e600097</td>\n      <td>news_filter</td>\n      <td>医疗机构领健完成数千万 B+轮融资,美团点评领投 | IT桔子周报 编辑：王炜本周共计发生 ...</td>\n      <td>医药</td>\n    </tr>\n    <tr>\n      <th>2</th>\n      <td>c698937f8670b0e6763dd929c1fdb6ec</td>\n      <td>news_filter</td>\n      <td>9月10日临创投资晨报 以下市场资讯由临创投资研究所整理摘要：1、宏观经济与政策：中国8月出...</td>\n      <td>医药</td>\n    </tr>\n    <tr>\n      <th>3</th>\n      <td>684faad1f4de34127cf1101d8767a332</td>\n      <td>news_filter</td>\n      <td>民祥医药完成C轮融资,估值超10亿元 兴富资本投资的新三板公司民祥医药(833004)喜获C...</td>\n      <td>医药</td>\n    </tr>\n    <tr>\n      <th>4</th>\n      <td>999c03bc10f03d7f88b87806f213d0b</td>\n      <td>news_filter</td>\n      <td>线闻|下一代肿瘤免疫新锐药企“寻百会生物”获数千万元新一轮融资 小线菌2018年10月1日，...</td>\n      <td>医药</td>\n    </tr>\n  </tbody>\n</table>\n</div>"
     },
     "execution_count": 27,
     "metadata": {},
     "output_type": "execute_result"
    }
   ],
   "source": [
    "from pathlib import Path\n",
    "import pickle\n",
    "\n",
    "path_news_filter_df = Path('results/news_filter_df_v3.2.pkl')\n",
    "with path_news_filter_df.open('rb') as f:\n",
    "    df1 = pickle.load(f)\n",
    "df1.head()"
   ],
   "metadata": {
    "collapsed": false,
    "pycharm": {
     "name": "#%%\n"
    }
   }
  },
  {
   "cell_type": "code",
   "execution_count": 31,
   "outputs": [
    {
     "data": {
      "text/plain": "Index(['esid', 'prefix', 'input_text', 'target_text'], dtype='object')"
     },
     "execution_count": 31,
     "metadata": {},
     "output_type": "execute_result"
    }
   ],
   "source": [
    "df1.columns"
   ],
   "metadata": {
    "collapsed": false,
    "pycharm": {
     "name": "#%%\n"
    }
   }
  },
  {
   "cell_type": "code",
   "execution_count": 32,
   "outputs": [],
   "source": [
    "!rm results/news_filter_df_v3.2.pkl\n"
   ],
   "metadata": {
    "collapsed": false,
    "pycharm": {
     "name": "#%%\n"
    }
   }
  },
  {
   "cell_type": "markdown",
   "source": [
    "### export to-check dataset"
   ],
   "metadata": {
    "collapsed": false,
    "pycharm": {
     "name": "#%% md\n"
    }
   }
  },
  {
   "cell_type": "code",
   "source": [
    "import pandas as pd\n",
    "from pharm_ai.prophet.dt import ProphetT5PreprocessorV3_1, ProphetT5PreprocessorV3_2"
   ],
   "metadata": {
    "collapsed": false,
    "pycharm": {
     "name": "#%%\n"
    }
   },
   "execution_count": 9,
   "outputs": []
  },
  {
   "cell_type": "code",
   "execution_count": 31,
   "outputs": [
    {
     "name": "stderr",
     "output_type": "stream",
     "text": [
      "2021-07-12 17:13:32.591 | INFO     | pharm_ai.prophet.dt:get_company_dictionary:361 - 25483 company names loaded from \"results/company_dictionary.json\".\n",
      "2021-07-12 17:13:32.658 | INFO     | pharm_ai.prophet.dt:get_invester_list:376 - 31298 investers loaded from \"results/invester_list.json\".\n",
      "2021-07-12 17:13:35.272 | INFO     | pharm_ai.prophet.dt:preprocess_raw:206 - News_filter dataset loaded from \"results/news_filter_df_v3.2.pkl\".\n",
      "2021-07-12 17:13:35.356 | INFO     | pharm_ai.prophet.dt:preprocess_raw:223 - IRA&org dataset loaded from \"results/ira_org_df_v3.2.pkl\".\n"
     ]
    }
   ],
   "source": [
    "prepro = ProphetT5PreprocessorV3_2()\n",
    "raw_df = prepro.preprocess_raw_not_check()\n"
   ],
   "metadata": {
    "collapsed": false,
    "pycharm": {
     "name": "#%%\n"
    }
   }
  },
  {
   "cell_type": "code",
   "execution_count": 73,
   "outputs": [
    {
     "data": {
      "text/plain": "True"
     },
     "execution_count": 73,
     "metadata": {},
     "output_type": "execute_result"
    }
   ],
   "source": [
    "Path('results/news_filter_data_v3.2.json').exists()\n"
   ],
   "metadata": {
    "collapsed": false,
    "pycharm": {
     "name": "#%%\n"
    }
   }
  },
  {
   "cell_type": "code",
   "execution_count": 131,
   "outputs": [
    {
     "name": "stderr",
     "output_type": "stream",
     "text": [
      "2021-07-13 14:30:42.231 | INFO     | pharm_ai.prophet.ira.prepro:get_from_h5:57 - Read data from '/home/fzq/miniconda3/envs/ai/lib/python3.9/site-packages/pharm_ai/prophet/ira/data.h5' with key raw/v2-5\n"
     ]
    }
   ],
   "source": [
    "last_prepro = ProphetT5PreprocessorV3_1()\n",
    "raw_last = last_prepro.preprocess_raw(fill_empty_paragraph=False,\n",
    "                                      ignore_org_ner=True)"
   ],
   "metadata": {
    "collapsed": false,
    "pycharm": {
     "name": "#%%\n"
    }
   }
  },
  {
   "cell_type": "code",
   "execution_count": 132,
   "outputs": [
    {
     "data": {
      "text/plain": "array(['news_filter', 'investee', 'round', 'amount', 'org_filter'],\n      dtype=object)"
     },
     "execution_count": 132,
     "metadata": {},
     "output_type": "execute_result"
    }
   ],
   "source": [
    "raw_last['prefix'].unique()"
   ],
   "metadata": {
    "collapsed": false,
    "pycharm": {
     "name": "#%%\n"
    }
   }
  },
  {
   "cell_type": "code",
   "execution_count": 32,
   "outputs": [
    {
     "data": {
      "text/plain": "array(['news_filter', 'ira_filter', 'org_filter', 'investee', 'round',\n       'amount', 'org_ner.c3', 'org_ner.c1', 'org_ner', 'org_ner.c2'],\n      dtype=object)"
     },
     "execution_count": 32,
     "metadata": {},
     "output_type": "execute_result"
    }
   ],
   "source": [
    "raw_df['prefix'].unique()\n"
   ],
   "metadata": {
    "collapsed": false,
    "pycharm": {
     "name": "#%%\n"
    }
   }
  },
  {
   "cell_type": "markdown",
   "source": [
    "#### ira_filter data\n",
    "\n",
    "Last version ira_filter data lost."
   ],
   "metadata": {
    "collapsed": false
   }
  },
  {
   "cell_type": "code",
   "execution_count": 232,
   "outputs": [],
   "source": [
    "ira_filter_df = raw_df[raw_df['prefix']=='ira_filter']\n"
   ],
   "metadata": {
    "collapsed": false,
    "pycharm": {
     "name": "#%%\n"
    }
   }
  },
  {
   "cell_type": "code",
   "execution_count": 236,
   "outputs": [
    {
     "data": {
      "text/plain": "                                    esid      prefix titles  \\\n570818  afd969d102dc4b589b674a35b9d95fec  ira_filter    NaN   \n570822  afd969d102dc4b589b674a35b9d95fec  ira_filter    NaN   \n570824  afd969d102dc4b589b674a35b9d95fec  ira_filter    NaN   \n570826  afd969d102dc4b589b674a35b9d95fec  ira_filter    NaN   \n570828  afd969d102dc4b589b674a35b9d95fec  ira_filter    NaN   \n\n                                               input_text target_text  \\\n570818  NEW YORK, Feb. 9, 2021 /PRNewswire/ -- Cambria...           1   \n570822  This launch coincides with the IPO of its port...           0   \n570824  Cambrian Biopharma announces $60M in funding t...           0   \n570826  Cambrian scientists are targeting the \"Nine Ha...           0   \n570828  \"Over the next decade, Cambrian aims to detect...           0   \n\n              publish_date  \n570818 2021-02-08 16:00:00  \n570822 2021-02-08 16:00:00  \n570824 2021-02-08 16:00:00  \n570826 2021-02-08 16:00:00  \n570828 2021-02-08 16:00:00  ",
      "text/html": "<div>\n<style scoped>\n    .dataframe tbody tr th:only-of-type {\n        vertical-align: middle;\n    }\n\n    .dataframe tbody tr th {\n        vertical-align: top;\n    }\n\n    .dataframe thead th {\n        text-align: right;\n    }\n</style>\n<table border=\"1\" class=\"dataframe\">\n  <thead>\n    <tr style=\"text-align: right;\">\n      <th></th>\n      <th>esid</th>\n      <th>prefix</th>\n      <th>titles</th>\n      <th>input_text</th>\n      <th>target_text</th>\n      <th>publish_date</th>\n    </tr>\n  </thead>\n  <tbody>\n    <tr>\n      <th>570818</th>\n      <td>afd969d102dc4b589b674a35b9d95fec</td>\n      <td>ira_filter</td>\n      <td>NaN</td>\n      <td>NEW YORK, Feb. 9, 2021 /PRNewswire/ -- Cambria...</td>\n      <td>1</td>\n      <td>2021-02-08 16:00:00</td>\n    </tr>\n    <tr>\n      <th>570822</th>\n      <td>afd969d102dc4b589b674a35b9d95fec</td>\n      <td>ira_filter</td>\n      <td>NaN</td>\n      <td>This launch coincides with the IPO of its port...</td>\n      <td>0</td>\n      <td>2021-02-08 16:00:00</td>\n    </tr>\n    <tr>\n      <th>570824</th>\n      <td>afd969d102dc4b589b674a35b9d95fec</td>\n      <td>ira_filter</td>\n      <td>NaN</td>\n      <td>Cambrian Biopharma announces $60M in funding t...</td>\n      <td>0</td>\n      <td>2021-02-08 16:00:00</td>\n    </tr>\n    <tr>\n      <th>570826</th>\n      <td>afd969d102dc4b589b674a35b9d95fec</td>\n      <td>ira_filter</td>\n      <td>NaN</td>\n      <td>Cambrian scientists are targeting the \"Nine Ha...</td>\n      <td>0</td>\n      <td>2021-02-08 16:00:00</td>\n    </tr>\n    <tr>\n      <th>570828</th>\n      <td>afd969d102dc4b589b674a35b9d95fec</td>\n      <td>ira_filter</td>\n      <td>NaN</td>\n      <td>\"Over the next decade, Cambrian aims to detect...</td>\n      <td>0</td>\n      <td>2021-02-08 16:00:00</td>\n    </tr>\n  </tbody>\n</table>\n</div>"
     },
     "execution_count": 236,
     "metadata": {},
     "output_type": "execute_result"
    }
   ],
   "source": [
    "ira_filter_df.head()"
   ],
   "metadata": {
    "collapsed": false,
    "pycharm": {
     "name": "#%%\n"
    }
   }
  },
  {
   "cell_type": "code",
   "execution_count": 238,
   "outputs": [
    {
     "data": {
      "text/plain": "esid                0\nprefix              0\ntitles          18616\ninput_text          0\ntarget_text         0\npublish_date        0\ndtype: int64"
     },
     "execution_count": 238,
     "metadata": {},
     "output_type": "execute_result"
    }
   ],
   "source": [
    "ira_filter_df.isna().sum()\n"
   ],
   "metadata": {
    "collapsed": false,
    "pycharm": {
     "name": "#%%\n"
    }
   }
  },
  {
   "cell_type": "code",
   "execution_count": 245,
   "outputs": [
    {
     "data": {
      "text/plain": "                                    esid        publish_date  \\\n570818  afd969d102dc4b589b674a35b9d95fec 2021-02-08 16:00:00   \n570822  afd969d102dc4b589b674a35b9d95fec 2021-02-08 16:00:00   \n570824  afd969d102dc4b589b674a35b9d95fec 2021-02-08 16:00:00   \n570826  afd969d102dc4b589b674a35b9d95fec 2021-02-08 16:00:00   \n570828  afd969d102dc4b589b674a35b9d95fec 2021-02-08 16:00:00   \n\n                                               paragraphs  predict_label  \\\n570818  NEW YORK, Feb. 9, 2021 /PRNewswire/ -- Cambria...              1   \n570822  This launch coincides with the IPO of its port...              0   \n570824  Cambrian Biopharma announces $60M in funding t...              0   \n570826  Cambrian scientists are targeting the \"Nine Ha...              0   \n570828  \"Over the next decade, Cambrian aims to detect...              0   \n\n       true_label  \n570818       None  \n570822       None  \n570824       None  \n570826       None  \n570828       None  ",
      "text/html": "<div>\n<style scoped>\n    .dataframe tbody tr th:only-of-type {\n        vertical-align: middle;\n    }\n\n    .dataframe tbody tr th {\n        vertical-align: top;\n    }\n\n    .dataframe thead th {\n        text-align: right;\n    }\n</style>\n<table border=\"1\" class=\"dataframe\">\n  <thead>\n    <tr style=\"text-align: right;\">\n      <th></th>\n      <th>esid</th>\n      <th>publish_date</th>\n      <th>paragraphs</th>\n      <th>predict_label</th>\n      <th>true_label</th>\n    </tr>\n  </thead>\n  <tbody>\n    <tr>\n      <th>570818</th>\n      <td>afd969d102dc4b589b674a35b9d95fec</td>\n      <td>2021-02-08 16:00:00</td>\n      <td>NEW YORK, Feb. 9, 2021 /PRNewswire/ -- Cambria...</td>\n      <td>1</td>\n      <td>None</td>\n    </tr>\n    <tr>\n      <th>570822</th>\n      <td>afd969d102dc4b589b674a35b9d95fec</td>\n      <td>2021-02-08 16:00:00</td>\n      <td>This launch coincides with the IPO of its port...</td>\n      <td>0</td>\n      <td>None</td>\n    </tr>\n    <tr>\n      <th>570824</th>\n      <td>afd969d102dc4b589b674a35b9d95fec</td>\n      <td>2021-02-08 16:00:00</td>\n      <td>Cambrian Biopharma announces $60M in funding t...</td>\n      <td>0</td>\n      <td>None</td>\n    </tr>\n    <tr>\n      <th>570826</th>\n      <td>afd969d102dc4b589b674a35b9d95fec</td>\n      <td>2021-02-08 16:00:00</td>\n      <td>Cambrian scientists are targeting the \"Nine Ha...</td>\n      <td>0</td>\n      <td>None</td>\n    </tr>\n    <tr>\n      <th>570828</th>\n      <td>afd969d102dc4b589b674a35b9d95fec</td>\n      <td>2021-02-08 16:00:00</td>\n      <td>\"Over the next decade, Cambrian aims to detect...</td>\n      <td>0</td>\n      <td>None</td>\n    </tr>\n  </tbody>\n</table>\n</div>"
     },
     "execution_count": 245,
     "metadata": {},
     "output_type": "execute_result"
    }
   ],
   "source": [
    "ira_filter_to_check = ira_filter_df[['esid', 'publish_date', 'input_text', 'target_text']].rename(\n",
    "    columns={'input_text': 'paragraphs', 'target_text': 'predict_label'}\n",
    ")\n",
    "ira_filter_to_check['predict_label'] = ira_filter_to_check['predict_label'].astype(int)\n",
    "ira_filter_to_check['true_label'] = None\n",
    "ira_filter_to_check.head()"
   ],
   "metadata": {
    "collapsed": false,
    "pycharm": {
     "name": "#%%\n"
    }
   }
  },
  {
   "cell_type": "markdown",
   "source": [
    "#### ira"
   ],
   "metadata": {
    "collapsed": false,
    "pycharm": {
     "name": "#%% md\n"
    }
   }
  },
  {
   "cell_type": "code",
   "execution_count": 9,
   "outputs": [
    {
     "data": {
      "text/plain": "                                    esid  prefix titles  \\\n285410  afd969d102dc4b589b674a35b9d95fec   round    NaN   \n285411  afd969d102dc4b589b674a35b9d95fec  amount    NaN   \n285424  563f67d11f5c46ae97072be238aa79fd   round    NaN   \n285425  563f67d11f5c46ae97072be238aa79fd  amount    NaN   \n285439  81bcc86de578c89d33448c2650c10e0c   round    NaN   \n\n                                               input_text target_text  \n285410  NEW YORK, Feb. 9, 2021 /PRNewswire/ -- Cambria...        战略投资  \n285411  NEW YORK, Feb. 9, 2021 /PRNewswire/ -- Cambria...     6000万美元  \n285424  NEW YORK, Feb. 10, 2021 /PRNewswire/ -- Scopus...          增发  \n285425  NEW YORK, Feb. 10, 2021 /PRNewswire/ -- Scopus...     1035万美元  \n285439  Aptar Acquires Nanopharm and Gateway Analytica...          并购  ",
      "text/html": "<div>\n<style scoped>\n    .dataframe tbody tr th:only-of-type {\n        vertical-align: middle;\n    }\n\n    .dataframe tbody tr th {\n        vertical-align: top;\n    }\n\n    .dataframe thead th {\n        text-align: right;\n    }\n</style>\n<table border=\"1\" class=\"dataframe\">\n  <thead>\n    <tr style=\"text-align: right;\">\n      <th></th>\n      <th>esid</th>\n      <th>prefix</th>\n      <th>titles</th>\n      <th>input_text</th>\n      <th>target_text</th>\n    </tr>\n  </thead>\n  <tbody>\n    <tr>\n      <th>285410</th>\n      <td>afd969d102dc4b589b674a35b9d95fec</td>\n      <td>round</td>\n      <td>NaN</td>\n      <td>NEW YORK, Feb. 9, 2021 /PRNewswire/ -- Cambria...</td>\n      <td>战略投资</td>\n    </tr>\n    <tr>\n      <th>285411</th>\n      <td>afd969d102dc4b589b674a35b9d95fec</td>\n      <td>amount</td>\n      <td>NaN</td>\n      <td>NEW YORK, Feb. 9, 2021 /PRNewswire/ -- Cambria...</td>\n      <td>6000万美元</td>\n    </tr>\n    <tr>\n      <th>285424</th>\n      <td>563f67d11f5c46ae97072be238aa79fd</td>\n      <td>round</td>\n      <td>NaN</td>\n      <td>NEW YORK, Feb. 10, 2021 /PRNewswire/ -- Scopus...</td>\n      <td>增发</td>\n    </tr>\n    <tr>\n      <th>285425</th>\n      <td>563f67d11f5c46ae97072be238aa79fd</td>\n      <td>amount</td>\n      <td>NaN</td>\n      <td>NEW YORK, Feb. 10, 2021 /PRNewswire/ -- Scopus...</td>\n      <td>1035万美元</td>\n    </tr>\n    <tr>\n      <th>285439</th>\n      <td>81bcc86de578c89d33448c2650c10e0c</td>\n      <td>round</td>\n      <td>NaN</td>\n      <td>Aptar Acquires Nanopharm and Gateway Analytica...</td>\n      <td>并购</td>\n    </tr>\n  </tbody>\n</table>\n</div>"
     },
     "execution_count": 9,
     "metadata": {},
     "output_type": "execute_result"
    }
   ],
   "source": [
    "ira_df = raw_df[raw_df['prefix'].isin(['investee', 'round', 'amount'])]\n",
    "ira_df.head()"
   ],
   "metadata": {
    "collapsed": false,
    "pycharm": {
     "name": "#%%\n"
    }
   }
  },
  {
   "cell_type": "code",
   "execution_count": 10,
   "outputs": [
    {
     "data": {
      "text/plain": "(19792, 5)"
     },
     "execution_count": 10,
     "metadata": {},
     "output_type": "execute_result"
    }
   ],
   "source": [
    "ira_df.shape"
   ],
   "metadata": {
    "collapsed": false,
    "pycharm": {
     "name": "#%%\n"
    }
   }
  },
  {
   "cell_type": "code",
   "execution_count": 68,
   "outputs": [
    {
     "data": {
      "text/plain": "      titles             target_text  \\\n59232    NaN  Chondrial Therapeutics   \n59233    NaN       Myst Therapeutics   \n59234    NaN  Medical Data Analytics   \n59235    NaN       The Burgess Group   \n59236    NaN            Amryt Pharma   \n\n                                              input_text esid    prefix  \n59232  December 18, 2019 06:00 ET | Source: Zafgen, I...  NaN  investee  \n59233  Turnstone Biologics Corp., a clinical-stage bi...  NaN  investee  \n59234  RESEARCH TRIANGLE PARK, N.C., April 6, 2020 /P...  NaN  investee  \n59235  HealthEdge Software Acquires The Burgess Group...  NaN  investee  \n59236  据6月23日美国证监会文件披露，英国上市的生物制药公司Amryt Pharma将以“AMYT...  NaN  investee  ",
      "text/html": "<div>\n<style scoped>\n    .dataframe tbody tr th:only-of-type {\n        vertical-align: middle;\n    }\n\n    .dataframe tbody tr th {\n        vertical-align: top;\n    }\n\n    .dataframe thead th {\n        text-align: right;\n    }\n</style>\n<table border=\"1\" class=\"dataframe\">\n  <thead>\n    <tr style=\"text-align: right;\">\n      <th></th>\n      <th>titles</th>\n      <th>target_text</th>\n      <th>input_text</th>\n      <th>esid</th>\n      <th>prefix</th>\n    </tr>\n  </thead>\n  <tbody>\n    <tr>\n      <th>59232</th>\n      <td>NaN</td>\n      <td>Chondrial Therapeutics</td>\n      <td>December 18, 2019 06:00 ET | Source: Zafgen, I...</td>\n      <td>NaN</td>\n      <td>investee</td>\n    </tr>\n    <tr>\n      <th>59233</th>\n      <td>NaN</td>\n      <td>Myst Therapeutics</td>\n      <td>Turnstone Biologics Corp., a clinical-stage bi...</td>\n      <td>NaN</td>\n      <td>investee</td>\n    </tr>\n    <tr>\n      <th>59234</th>\n      <td>NaN</td>\n      <td>Medical Data Analytics</td>\n      <td>RESEARCH TRIANGLE PARK, N.C., April 6, 2020 /P...</td>\n      <td>NaN</td>\n      <td>investee</td>\n    </tr>\n    <tr>\n      <th>59235</th>\n      <td>NaN</td>\n      <td>The Burgess Group</td>\n      <td>HealthEdge Software Acquires The Burgess Group...</td>\n      <td>NaN</td>\n      <td>investee</td>\n    </tr>\n    <tr>\n      <th>59236</th>\n      <td>NaN</td>\n      <td>Amryt Pharma</td>\n      <td>据6月23日美国证监会文件披露，英国上市的生物制药公司Amryt Pharma将以“AMYT...</td>\n      <td>NaN</td>\n      <td>investee</td>\n    </tr>\n  </tbody>\n</table>\n</div>"
     },
     "execution_count": 68,
     "metadata": {},
     "output_type": "execute_result"
    }
   ],
   "source": [
    "ira_last_df = raw_last[raw_last['prefix'].isin(['investee', 'round', 'amount'])]\n",
    "ira_last_df.head()"
   ],
   "metadata": {
    "collapsed": false,
    "pycharm": {
     "name": "#%%\n"
    }
   }
  },
  {
   "cell_type": "code",
   "execution_count": 17,
   "outputs": [
    {
     "data": {
      "text/plain": "(27021, 5)"
     },
     "execution_count": 17,
     "metadata": {},
     "output_type": "execute_result"
    }
   ],
   "source": [
    "ira_last_df.shape"
   ],
   "metadata": {
    "collapsed": false,
    "pycharm": {
     "name": "#%%\n"
    }
   }
  },
  {
   "cell_type": "code",
   "execution_count": 18,
   "outputs": [
    {
     "data": {
      "text/plain": "titles         27021\ntarget_text        0\ninput_text         0\nesid           27021\nprefix             0\ndtype: int64"
     },
     "execution_count": 18,
     "metadata": {},
     "output_type": "execute_result"
    }
   ],
   "source": [
    "ira_last_df.isna().sum()"
   ],
   "metadata": {
    "collapsed": false,
    "pycharm": {
     "name": "#%%\n"
    }
   }
  },
  {
   "cell_type": "markdown",
   "source": [
    "Cannot use esid or columns to match, try paragraph."
   ],
   "metadata": {
    "collapsed": false,
    "pycharm": {
     "name": "#%% md\n"
    }
   }
  },
  {
   "cell_type": "code",
   "execution_count": 20,
   "outputs": [
    {
     "data": {
      "text/plain": "3606"
     },
     "execution_count": 20,
     "metadata": {},
     "output_type": "execute_result"
    }
   ],
   "source": [
    "ira_last_df['input_text'].isin(ira_df['input_text']).sum()"
   ],
   "metadata": {
    "collapsed": false,
    "pycharm": {
     "name": "#%%\n"
    }
   }
  },
  {
   "cell_type": "code",
   "execution_count": 78,
   "outputs": [
    {
     "data": {
      "text/plain": "                                    esid  prefix titles  \\\n305093  9eb7e753eee84e8bbd31e570f7d8e80a  amount    NaN   \n331710  18ae64dc7df94770b39e2666e7494afe  amount    NaN   \n287008  04da344815554403af5f8cfe474a283f  amount    NaN   \n287402  741a5f8f70074e31a4ac3af55586c5c0  amount    NaN   \n304079  55fd860f5dea40e3beb53a98f566a94a  amount    NaN   \n303948  5febd847c6eb4b708e0447179d5fe9ff  amount    NaN   \n304044  52c0820e1c5c45b1b8d7fb9cc09c8540  amount    NaN   \n304118  3218195e66284b2880a20902053c5f39  amount    NaN   \n\n                                               input_text  target_text  \n305093  36氪获悉，在线心理服务平台「壹点灵」于近日完成了由比邻星领投、约印资本跟投的数千万元A轮融...    1000万元人民币  \n331710  36氪获悉，在线心理服务平台「壹点灵」于近日完成了由比邻星领投、约印资本跟投的数千万元A轮融...      数千万元人民币  \n287008                                          3i Group           未披露  \n287402                                          3i Group        700万欧元  \n304079                                          3i Group        650万美元  \n303948                                              ATDC   130.4901万美元  \n304044                                              ATDC        250万美元  \n304118                                              ATDC           未披露  ",
      "text/html": "<div>\n<style scoped>\n    .dataframe tbody tr th:only-of-type {\n        vertical-align: middle;\n    }\n\n    .dataframe tbody tr th {\n        vertical-align: top;\n    }\n\n    .dataframe thead th {\n        text-align: right;\n    }\n</style>\n<table border=\"1\" class=\"dataframe\">\n  <thead>\n    <tr style=\"text-align: right;\">\n      <th></th>\n      <th>esid</th>\n      <th>prefix</th>\n      <th>titles</th>\n      <th>input_text</th>\n      <th>target_text</th>\n    </tr>\n  </thead>\n  <tbody>\n    <tr>\n      <th>305093</th>\n      <td>9eb7e753eee84e8bbd31e570f7d8e80a</td>\n      <td>amount</td>\n      <td>NaN</td>\n      <td>36氪获悉，在线心理服务平台「壹点灵」于近日完成了由比邻星领投、约印资本跟投的数千万元A轮融...</td>\n      <td>1000万元人民币</td>\n    </tr>\n    <tr>\n      <th>331710</th>\n      <td>18ae64dc7df94770b39e2666e7494afe</td>\n      <td>amount</td>\n      <td>NaN</td>\n      <td>36氪获悉，在线心理服务平台「壹点灵」于近日完成了由比邻星领投、约印资本跟投的数千万元A轮融...</td>\n      <td>数千万元人民币</td>\n    </tr>\n    <tr>\n      <th>287008</th>\n      <td>04da344815554403af5f8cfe474a283f</td>\n      <td>amount</td>\n      <td>NaN</td>\n      <td>3i Group</td>\n      <td>未披露</td>\n    </tr>\n    <tr>\n      <th>287402</th>\n      <td>741a5f8f70074e31a4ac3af55586c5c0</td>\n      <td>amount</td>\n      <td>NaN</td>\n      <td>3i Group</td>\n      <td>700万欧元</td>\n    </tr>\n    <tr>\n      <th>304079</th>\n      <td>55fd860f5dea40e3beb53a98f566a94a</td>\n      <td>amount</td>\n      <td>NaN</td>\n      <td>3i Group</td>\n      <td>650万美元</td>\n    </tr>\n    <tr>\n      <th>303948</th>\n      <td>5febd847c6eb4b708e0447179d5fe9ff</td>\n      <td>amount</td>\n      <td>NaN</td>\n      <td>ATDC</td>\n      <td>130.4901万美元</td>\n    </tr>\n    <tr>\n      <th>304044</th>\n      <td>52c0820e1c5c45b1b8d7fb9cc09c8540</td>\n      <td>amount</td>\n      <td>NaN</td>\n      <td>ATDC</td>\n      <td>250万美元</td>\n    </tr>\n    <tr>\n      <th>304118</th>\n      <td>3218195e66284b2880a20902053c5f39</td>\n      <td>amount</td>\n      <td>NaN</td>\n      <td>ATDC</td>\n      <td>未披露</td>\n    </tr>\n  </tbody>\n</table>\n</div>"
     },
     "execution_count": 78,
     "metadata": {},
     "output_type": "execute_result"
    }
   ],
   "source": [
    "filter_duplicated_target_text = lambda t5_df: pd.concat(dt\n",
    "for _, dt in t5_df[t5_df[['prefix', 'input_text']].duplicated()].groupby(\n",
    "    ['prefix', 'input_text']) if dt['target_text'].nunique()>1)\n",
    "ira_df_duplicated = filter_duplicated_target_text(ira_df)\n",
    "ira_df_duplicated.head(8)"
   ],
   "metadata": {
    "collapsed": false,
    "pycharm": {
     "name": "#%%\n"
    }
   }
  },
  {
   "cell_type": "code",
   "execution_count": 76,
   "outputs": [
    {
     "data": {
      "text/plain": "(19574, 5)"
     },
     "execution_count": 76,
     "metadata": {},
     "output_type": "execute_result"
    }
   ],
   "source": [
    "ira_df_unique = ira_df.drop_duplicates(subset=['prefix', 'input_text'], keep='last')\n",
    "ira_df_unique.shape"
   ],
   "metadata": {
    "collapsed": false,
    "pycharm": {
     "name": "#%%\n"
    }
   }
  },
  {
   "cell_type": "code",
   "execution_count": 66,
   "outputs": [
    {
     "data": {
      "text/plain": "      titles target_text                                         input_text  \\\n81678    NaN    500万元人民币  36氪获悉，在线心理服务平台「壹点灵」于近日完成了由比邻星领投、约印资本跟投的数千万元A轮融...   \n85401    NaN   1000万元人民币  36氪获悉，在线心理服务平台「壹点灵」于近日完成了由比邻星领投、约印资本跟投的数千万元A轮融...   \n79868    NaN      数亿元人民币  　　1月3日消息，远洋集团旗下远洋资本完成对美中宜和医疗数亿元人民币战略投资。这是继布局养老...   \n84703    NaN      1亿元人民币  　　1月3日消息，远洋集团旗下远洋资本完成对美中宜和医疗数亿元人民币战略投资。这是继布局养老...   \n61239    NaN      钥世圈云健康  36氪获悉，上海昕健医疗技术有限公司已于2018年初完成数千万A轮融资，本轮融资由比邻星创投...   \n61418    NaN        昕健医疗  36氪获悉，上海昕健医疗技术有限公司已于2018年初完成数千万A轮融资，本轮融资由比邻星创投...   \n60912    NaN      天元药业集团  7月9日 - 延安必康（002411）晚间公告称，公司全资子公司陕西必康制药集团控股有限公司...   \n60933    NaN        昌鹤医药  7月9日 - 延安必康（002411）晚间公告称，公司全资子公司陕西必康制药集团控股有限公司...   \n61019    NaN        晋欣医药  7月9日 - 延安必康（002411）晚间公告称，公司全资子公司陕西必康制药集团控股有限公司...   \n70246    NaN         天使轮  36氪获悉，上海昕健医疗技术有限公司已于2018年初完成数千万A轮融资，本轮融资由比邻星创投...   \n70425    NaN          A轮  36氪获悉，上海昕健医疗技术有限公司已于2018年初完成数千万A轮融资，本轮融资由比邻星创投...   \n72671    NaN         天使轮  36氪获悉，在线心理服务平台「壹点灵」于近日完成了由比邻星领投、约印资本跟投的数千万元A轮融...   \n76394    NaN      Pre-A轮  36氪获悉，在线心理服务平台「壹点灵」于近日完成了由比邻星领投、约印资本跟投的数千万元A轮融...   \n70861    NaN        战略投资  　　1月3日消息，远洋集团旗下远洋资本完成对美中宜和医疗数亿元人民币战略投资。这是继布局养老...   \n75696    NaN          A轮  　　1月3日消息，远洋集团旗下远洋资本完成对美中宜和医疗数亿元人民币战略投资。这是继布局养老...   \n\n      esid    prefix  \n81678  NaN    amount  \n85401  NaN    amount  \n79868  NaN    amount  \n84703  NaN    amount  \n61239  NaN  investee  \n61418  NaN  investee  \n60912  NaN  investee  \n60933  NaN  investee  \n61019  NaN  investee  \n70246  NaN     round  \n70425  NaN     round  \n72671  NaN     round  \n76394  NaN     round  \n70861  NaN     round  \n75696  NaN     round  ",
      "text/html": "<div>\n<style scoped>\n    .dataframe tbody tr th:only-of-type {\n        vertical-align: middle;\n    }\n\n    .dataframe tbody tr th {\n        vertical-align: top;\n    }\n\n    .dataframe thead th {\n        text-align: right;\n    }\n</style>\n<table border=\"1\" class=\"dataframe\">\n  <thead>\n    <tr style=\"text-align: right;\">\n      <th></th>\n      <th>titles</th>\n      <th>target_text</th>\n      <th>input_text</th>\n      <th>esid</th>\n      <th>prefix</th>\n    </tr>\n  </thead>\n  <tbody>\n    <tr>\n      <th>81678</th>\n      <td>NaN</td>\n      <td>500万元人民币</td>\n      <td>36氪获悉，在线心理服务平台「壹点灵」于近日完成了由比邻星领投、约印资本跟投的数千万元A轮融...</td>\n      <td>NaN</td>\n      <td>amount</td>\n    </tr>\n    <tr>\n      <th>85401</th>\n      <td>NaN</td>\n      <td>1000万元人民币</td>\n      <td>36氪获悉，在线心理服务平台「壹点灵」于近日完成了由比邻星领投、约印资本跟投的数千万元A轮融...</td>\n      <td>NaN</td>\n      <td>amount</td>\n    </tr>\n    <tr>\n      <th>79868</th>\n      <td>NaN</td>\n      <td>数亿元人民币</td>\n      <td>1月3日消息，远洋集团旗下远洋资本完成对美中宜和医疗数亿元人民币战略投资。这是继布局养老...</td>\n      <td>NaN</td>\n      <td>amount</td>\n    </tr>\n    <tr>\n      <th>84703</th>\n      <td>NaN</td>\n      <td>1亿元人民币</td>\n      <td>1月3日消息，远洋集团旗下远洋资本完成对美中宜和医疗数亿元人民币战略投资。这是继布局养老...</td>\n      <td>NaN</td>\n      <td>amount</td>\n    </tr>\n    <tr>\n      <th>61239</th>\n      <td>NaN</td>\n      <td>钥世圈云健康</td>\n      <td>36氪获悉，上海昕健医疗技术有限公司已于2018年初完成数千万A轮融资，本轮融资由比邻星创投...</td>\n      <td>NaN</td>\n      <td>investee</td>\n    </tr>\n    <tr>\n      <th>61418</th>\n      <td>NaN</td>\n      <td>昕健医疗</td>\n      <td>36氪获悉，上海昕健医疗技术有限公司已于2018年初完成数千万A轮融资，本轮融资由比邻星创投...</td>\n      <td>NaN</td>\n      <td>investee</td>\n    </tr>\n    <tr>\n      <th>60912</th>\n      <td>NaN</td>\n      <td>天元药业集团</td>\n      <td>7月9日 - 延安必康（002411）晚间公告称，公司全资子公司陕西必康制药集团控股有限公司...</td>\n      <td>NaN</td>\n      <td>investee</td>\n    </tr>\n    <tr>\n      <th>60933</th>\n      <td>NaN</td>\n      <td>昌鹤医药</td>\n      <td>7月9日 - 延安必康（002411）晚间公告称，公司全资子公司陕西必康制药集团控股有限公司...</td>\n      <td>NaN</td>\n      <td>investee</td>\n    </tr>\n    <tr>\n      <th>61019</th>\n      <td>NaN</td>\n      <td>晋欣医药</td>\n      <td>7月9日 - 延安必康（002411）晚间公告称，公司全资子公司陕西必康制药集团控股有限公司...</td>\n      <td>NaN</td>\n      <td>investee</td>\n    </tr>\n    <tr>\n      <th>70246</th>\n      <td>NaN</td>\n      <td>天使轮</td>\n      <td>36氪获悉，上海昕健医疗技术有限公司已于2018年初完成数千万A轮融资，本轮融资由比邻星创投...</td>\n      <td>NaN</td>\n      <td>round</td>\n    </tr>\n    <tr>\n      <th>70425</th>\n      <td>NaN</td>\n      <td>A轮</td>\n      <td>36氪获悉，上海昕健医疗技术有限公司已于2018年初完成数千万A轮融资，本轮融资由比邻星创投...</td>\n      <td>NaN</td>\n      <td>round</td>\n    </tr>\n    <tr>\n      <th>72671</th>\n      <td>NaN</td>\n      <td>天使轮</td>\n      <td>36氪获悉，在线心理服务平台「壹点灵」于近日完成了由比邻星领投、约印资本跟投的数千万元A轮融...</td>\n      <td>NaN</td>\n      <td>round</td>\n    </tr>\n    <tr>\n      <th>76394</th>\n      <td>NaN</td>\n      <td>Pre-A轮</td>\n      <td>36氪获悉，在线心理服务平台「壹点灵」于近日完成了由比邻星领投、约印资本跟投的数千万元A轮融...</td>\n      <td>NaN</td>\n      <td>round</td>\n    </tr>\n    <tr>\n      <th>70861</th>\n      <td>NaN</td>\n      <td>战略投资</td>\n      <td>1月3日消息，远洋集团旗下远洋资本完成对美中宜和医疗数亿元人民币战略投资。这是继布局养老...</td>\n      <td>NaN</td>\n      <td>round</td>\n    </tr>\n    <tr>\n      <th>75696</th>\n      <td>NaN</td>\n      <td>A轮</td>\n      <td>1月3日消息，远洋集团旗下远洋资本完成对美中宜和医疗数亿元人民币战略投资。这是继布局养老...</td>\n      <td>NaN</td>\n      <td>round</td>\n    </tr>\n  </tbody>\n</table>\n</div>"
     },
     "execution_count": 66,
     "metadata": {},
     "output_type": "execute_result"
    }
   ],
   "source": [
    "ira_last_duplicated = filter_duplicated_target_text(ira_last_df)\n",
    "ira_last_duplicated"
   ],
   "metadata": {
    "collapsed": false,
    "pycharm": {
     "name": "#%%\n"
    }
   }
  },
  {
   "cell_type": "code",
   "execution_count": 69,
   "outputs": [
    {
     "data": {
      "text/plain": "(26880, 5)"
     },
     "execution_count": 69,
     "metadata": {},
     "output_type": "execute_result"
    }
   ],
   "source": [
    "ira_last_df_unique=ira_last_df.drop_duplicates(subset=['prefix', 'input_text'], keep='last')\n",
    "ira_last_df_unique.shape"
   ],
   "metadata": {
    "collapsed": false,
    "pycharm": {
     "name": "#%%\n"
    }
   }
  },
  {
   "cell_type": "code",
   "execution_count": 109,
   "outputs": [
    {
     "data": {
      "text/plain": "                                             input_text target_text\n256   百济神州（纳斯达克代码：BGNE）今日宣布新一轮8亿美元公开募股完成。作为一家专注于开发和商...        战略投资\n332   对于流通环节的经销商来说，不论是线下还是线上模式，赚的都是信息不对称的钱。而邹瑾想做的是把帘...          A轮\n799   2019年5月20日，Inova Personalized Health Accelerat...      230万欧元\n821   上海合璞医疗科技有限公司（以下简称“上海合璞医疗”）为了业务的拓展拟进行增资扩股，注册资本将...  1.434亿元人民币\n890   12月7日，互联网体检服务平台医通健康宣布完成近2亿元人民币的B轮融资。本次B轮融资是业内第...          B轮\n891   12月7日，互联网体检服务平台医通健康宣布完成近2亿元人民币的B轮融资。本次B轮融资是业内第...     近2亿元人民币\n978   日化清洁用品的包装上常常会有“抗菌、抑菌”等宣传标签，然而这些抗菌成分是否有杀菌效果，这一点...         天使轮\n979   日化清洁用品的包装上常常会有“抗菌、抑菌”等宣传标签，然而这些抗菌成分是否有杀菌效果，这一点...    500万元人民币\n1038  36氪获悉，定位于医院病床旁场景下信息、娱乐、消费三位一体的综合服务平台「爱汇健康」宣布已于...         天使轮\n1039  36氪获悉，定位于医院病床旁场景下信息、娱乐、消费三位一体的综合服务平台「爱汇健康」宣布已于...   1200万元人民币\n1158  近日，美国生物制药公司Neurocrine近日宣布同意向Voyager Therapeuti...          其他\n1159  近日，美国生物制药公司Neurocrine近日宣布同意向Voyager Therapeuti...     5000万美元\n1360  2020年3月10日，国内创新医疗支付专家上海镁信健康科技有限公司（简称“镁信健康”）宣布获...        战略投资\n1774  近日，深圳英美达医疗技术有限公司（以下简称“英美达”）对外宣布于近期完成新一轮数千万元融资，...         未披露\n2028                                        盛诺基获得启明创投投资          C轮\n2029                                        盛诺基获得启明创投投资      210万美元\n2248  36氪获悉，在线心理服务平台「壹点灵」于近日完成了由比邻星领投、约印资本跟投的数千万元A轮融...      Pre-A轮\n2249  36氪获悉，在线心理服务平台「壹点灵」于近日完成了由比邻星领投、约印资本跟投的数千万元A轮融...   1000万元人民币",
      "text/html": "<div>\n<style scoped>\n    .dataframe tbody tr th:only-of-type {\n        vertical-align: middle;\n    }\n\n    .dataframe tbody tr th {\n        vertical-align: top;\n    }\n\n    .dataframe thead th {\n        text-align: right;\n    }\n</style>\n<table border=\"1\" class=\"dataframe\">\n  <thead>\n    <tr style=\"text-align: right;\">\n      <th></th>\n      <th>input_text</th>\n      <th>target_text</th>\n    </tr>\n  </thead>\n  <tbody>\n    <tr>\n      <th>256</th>\n      <td>百济神州（纳斯达克代码：BGNE）今日宣布新一轮8亿美元公开募股完成。作为一家专注于开发和商...</td>\n      <td>战略投资</td>\n    </tr>\n    <tr>\n      <th>332</th>\n      <td>对于流通环节的经销商来说，不论是线下还是线上模式，赚的都是信息不对称的钱。而邹瑾想做的是把帘...</td>\n      <td>A轮</td>\n    </tr>\n    <tr>\n      <th>799</th>\n      <td>2019年5月20日，Inova Personalized Health Accelerat...</td>\n      <td>230万欧元</td>\n    </tr>\n    <tr>\n      <th>821</th>\n      <td>上海合璞医疗科技有限公司（以下简称“上海合璞医疗”）为了业务的拓展拟进行增资扩股，注册资本将...</td>\n      <td>1.434亿元人民币</td>\n    </tr>\n    <tr>\n      <th>890</th>\n      <td>12月7日，互联网体检服务平台医通健康宣布完成近2亿元人民币的B轮融资。本次B轮融资是业内第...</td>\n      <td>B轮</td>\n    </tr>\n    <tr>\n      <th>891</th>\n      <td>12月7日，互联网体检服务平台医通健康宣布完成近2亿元人民币的B轮融资。本次B轮融资是业内第...</td>\n      <td>近2亿元人民币</td>\n    </tr>\n    <tr>\n      <th>978</th>\n      <td>日化清洁用品的包装上常常会有“抗菌、抑菌”等宣传标签，然而这些抗菌成分是否有杀菌效果，这一点...</td>\n      <td>天使轮</td>\n    </tr>\n    <tr>\n      <th>979</th>\n      <td>日化清洁用品的包装上常常会有“抗菌、抑菌”等宣传标签，然而这些抗菌成分是否有杀菌效果，这一点...</td>\n      <td>500万元人民币</td>\n    </tr>\n    <tr>\n      <th>1038</th>\n      <td>36氪获悉，定位于医院病床旁场景下信息、娱乐、消费三位一体的综合服务平台「爱汇健康」宣布已于...</td>\n      <td>天使轮</td>\n    </tr>\n    <tr>\n      <th>1039</th>\n      <td>36氪获悉，定位于医院病床旁场景下信息、娱乐、消费三位一体的综合服务平台「爱汇健康」宣布已于...</td>\n      <td>1200万元人民币</td>\n    </tr>\n    <tr>\n      <th>1158</th>\n      <td>近日，美国生物制药公司Neurocrine近日宣布同意向Voyager Therapeuti...</td>\n      <td>其他</td>\n    </tr>\n    <tr>\n      <th>1159</th>\n      <td>近日，美国生物制药公司Neurocrine近日宣布同意向Voyager Therapeuti...</td>\n      <td>5000万美元</td>\n    </tr>\n    <tr>\n      <th>1360</th>\n      <td>2020年3月10日，国内创新医疗支付专家上海镁信健康科技有限公司（简称“镁信健康”）宣布获...</td>\n      <td>战略投资</td>\n    </tr>\n    <tr>\n      <th>1774</th>\n      <td>近日，深圳英美达医疗技术有限公司（以下简称“英美达”）对外宣布于近期完成新一轮数千万元融资，...</td>\n      <td>未披露</td>\n    </tr>\n    <tr>\n      <th>2028</th>\n      <td>盛诺基获得启明创投投资</td>\n      <td>C轮</td>\n    </tr>\n    <tr>\n      <th>2029</th>\n      <td>盛诺基获得启明创投投资</td>\n      <td>210万美元</td>\n    </tr>\n    <tr>\n      <th>2248</th>\n      <td>36氪获悉，在线心理服务平台「壹点灵」于近日完成了由比邻星领投、约印资本跟投的数千万元A轮融...</td>\n      <td>Pre-A轮</td>\n    </tr>\n    <tr>\n      <th>2249</th>\n      <td>36氪获悉，在线心理服务平台「壹点灵」于近日完成了由比邻星领投、约印资本跟投的数千万元A轮融...</td>\n      <td>1000万元人民币</td>\n    </tr>\n  </tbody>\n</table>\n</div>"
     },
     "execution_count": 109,
     "metadata": {},
     "output_type": "execute_result"
    }
   ],
   "source": [
    "ira_merged = ira_df_unique.merge(ira_last_df_unique, on=['prefix', 'input_text'], validate='1:1')\n",
    "ira_not_check = ira_merged[ira_merged['target_text_x'].eq(ira_merged['target_text_y'])][\n",
    "    ['esid_x', 'prefix', 'input_text', 'target_text_x']].rename(\n",
    "    columns={'esid_x': 'esid','target_text_x': 'target_text'})\n",
    "ira_to_check_1 = ira_merged[ira_merged['target_text_x'].ne(ira_merged['target_text_y'])][\n",
    "    ['esid_x', 'prefix', 'input_text', 'target_text_y']].rename(\n",
    "    columns={'esid_x': 'esid','target_text_y': 'target_text'})\n",
    "ira_to_check_1[['input_text', 'target_text']].head(20)"
   ],
   "metadata": {
    "collapsed": false,
    "pycharm": {
     "name": "#%%\n"
    }
   }
  },
  {
   "cell_type": "code",
   "execution_count": 110,
   "outputs": [
    {
     "name": "stderr",
     "output_type": "stream",
     "text": [
      "<ipython-input-110-df7c41c801f6>:4: SettingWithCopyWarning: \n",
      "A value is trying to be set on a copy of a slice from a DataFrame.\n",
      "Try using .loc[row_indexer,col_indexer] = value instead\n",
      "\n",
      "See the caveats in the documentation: https://pandas.pydata.org/pandas-docs/stable/user_guide/indexing.html#returning-a-view-versus-a-copy\n",
      "  ira_to_check_2['target_text'] = ira_to_check_2['target_text_x'].where(\n"
     ]
    },
    {
     "data": {
      "text/plain": "                                   esid prefix  \\\ncount                             17226  41740   \nunique                             8393      3   \ntop     30faf198854f4299b7ca65a9c0bd459  round   \nfreq                                 30  16391   \n\n                                               input_text target_text  \ncount                                               41740       41740  \nunique                                              17564        8359  \ntop       公司5.17晚发布公告，拟2728万美元现金收购BIOMEDICAL RESEARCH ...         未披露  \nfreq                                                    3        4981  ",
      "text/html": "<div>\n<style scoped>\n    .dataframe tbody tr th:only-of-type {\n        vertical-align: middle;\n    }\n\n    .dataframe tbody tr th {\n        vertical-align: top;\n    }\n\n    .dataframe thead th {\n        text-align: right;\n    }\n</style>\n<table border=\"1\" class=\"dataframe\">\n  <thead>\n    <tr style=\"text-align: right;\">\n      <th></th>\n      <th>esid</th>\n      <th>prefix</th>\n      <th>input_text</th>\n      <th>target_text</th>\n    </tr>\n  </thead>\n  <tbody>\n    <tr>\n      <th>count</th>\n      <td>17226</td>\n      <td>41740</td>\n      <td>41740</td>\n      <td>41740</td>\n    </tr>\n    <tr>\n      <th>unique</th>\n      <td>8393</td>\n      <td>3</td>\n      <td>17564</td>\n      <td>8359</td>\n    </tr>\n    <tr>\n      <th>top</th>\n      <td>30faf198854f4299b7ca65a9c0bd459</td>\n      <td>round</td>\n      <td>公司5.17晚发布公告，拟2728万美元现金收购BIOMEDICAL RESEARCH ...</td>\n      <td>未披露</td>\n    </tr>\n    <tr>\n      <th>freq</th>\n      <td>30</td>\n      <td>16391</td>\n      <td>3</td>\n      <td>4981</td>\n    </tr>\n  </tbody>\n</table>\n</div>"
     },
     "execution_count": 110,
     "metadata": {},
     "output_type": "execute_result"
    }
   ],
   "source": [
    "ira_merged_full = ira_df_unique.merge(ira_last_df_unique, how='outer', on=['prefix', 'input_text'],\n",
    "                                      validate='1:1', indicator=True)\n",
    "ira_to_check_2 = ira_merged_full[ira_merged_full['_merge'].ne('both')]\n",
    "ira_to_check_2['target_text'] = ira_to_check_2['target_text_x'].where(\n",
    "    ira_to_check_2['target_text_x'].notna(), ira_to_check_2['target_text_y']\n",
    ")\n",
    "ira_to_check_2 = ira_to_check_2[['esid_x', 'prefix', 'input_text', 'target_text']].rename(\n",
    "    columns={'esid_x': 'esid'}\n",
    ")\n",
    "ira_to_check = pd.concat([ira_to_check_1, ira_to_check_2])\n",
    "ira_to_check.describe()"
   ],
   "metadata": {
    "collapsed": false,
    "pycharm": {
     "name": "#%%\n"
    }
   }
  },
  {
   "cell_type": "markdown",
   "source": [
    "#### org_filter data\n"
   ],
   "metadata": {
    "collapsed": false,
    "pycharm": {
     "name": "#%% md\n"
    }
   }
  },
  {
   "cell_type": "code",
   "execution_count": 133,
   "outputs": [
    {
     "name": "stderr",
     "output_type": "stream",
     "text": [
      "<ipython-input-133-dfb678342707>:2: FutureWarning: Treating datetime data as categorical rather than numeric in `.describe` is deprecated and will be removed in a future version of pandas. Specify `datetime_is_numeric=True` to silence this warning and adopt the future behavior now.\n",
      "  org_filter_df.describe()\n"
     ]
    },
    {
     "data": {
      "text/plain": "                                    esid      prefix titles input_text  \\\ncount                              18616       18616      0      18616   \nunique                              1387           1      0      16372   \ntop     e3bd3dcd34ca4d68b8c3f6814ec67c88  org_filter    NaN              \nfreq                                 276       18616    NaN        819   \nfirst                                NaN         NaN    NaN        NaN   \nlast                                 NaN         NaN    NaN        NaN   \n\n       target_text         publish_date  \ncount        18616                18616  \nunique           2                  396  \ntop              0  2021-01-06 16:00:00  \nfreq         17725                  701  \nfirst          NaN  2006-04-06 16:00:00  \nlast           NaN  2021-03-18 16:00:00  ",
      "text/html": "<div>\n<style scoped>\n    .dataframe tbody tr th:only-of-type {\n        vertical-align: middle;\n    }\n\n    .dataframe tbody tr th {\n        vertical-align: top;\n    }\n\n    .dataframe thead th {\n        text-align: right;\n    }\n</style>\n<table border=\"1\" class=\"dataframe\">\n  <thead>\n    <tr style=\"text-align: right;\">\n      <th></th>\n      <th>esid</th>\n      <th>prefix</th>\n      <th>titles</th>\n      <th>input_text</th>\n      <th>target_text</th>\n      <th>publish_date</th>\n    </tr>\n  </thead>\n  <tbody>\n    <tr>\n      <th>count</th>\n      <td>18616</td>\n      <td>18616</td>\n      <td>0</td>\n      <td>18616</td>\n      <td>18616</td>\n      <td>18616</td>\n    </tr>\n    <tr>\n      <th>unique</th>\n      <td>1387</td>\n      <td>1</td>\n      <td>0</td>\n      <td>16372</td>\n      <td>2</td>\n      <td>396</td>\n    </tr>\n    <tr>\n      <th>top</th>\n      <td>e3bd3dcd34ca4d68b8c3f6814ec67c88</td>\n      <td>org_filter</td>\n      <td>NaN</td>\n      <td></td>\n      <td>0</td>\n      <td>2021-01-06 16:00:00</td>\n    </tr>\n    <tr>\n      <th>freq</th>\n      <td>276</td>\n      <td>18616</td>\n      <td>NaN</td>\n      <td>819</td>\n      <td>17725</td>\n      <td>701</td>\n    </tr>\n    <tr>\n      <th>first</th>\n      <td>NaN</td>\n      <td>NaN</td>\n      <td>NaN</td>\n      <td>NaN</td>\n      <td>NaN</td>\n      <td>2006-04-06 16:00:00</td>\n    </tr>\n    <tr>\n      <th>last</th>\n      <td>NaN</td>\n      <td>NaN</td>\n      <td>NaN</td>\n      <td>NaN</td>\n      <td>NaN</td>\n      <td>2021-03-18 16:00:00</td>\n    </tr>\n  </tbody>\n</table>\n</div>"
     },
     "execution_count": 133,
     "metadata": {},
     "output_type": "execute_result"
    }
   ],
   "source": [
    "org_filter_df = raw_df[raw_df['prefix']=='org_filter']\n",
    "org_filter_df.describe()"
   ],
   "metadata": {
    "collapsed": false,
    "pycharm": {
     "name": "#%%\n"
    }
   }
  },
  {
   "cell_type": "code",
   "execution_count": 133,
   "outputs": [
    {
     "data": {
      "text/plain": "       titles target_text                                         input_text  \\\ncount       0       14855                                              14855   \nunique      0           2                                              10355   \ntop       NaN           0  本文发布日期为2020年9月14日。【本文为投资界原创，网页转载须在文首注明来源投资界（微信...   \nfreq      NaN       13735                                                 24   \n\n       esid      prefix  \ncount     0       14855  \nunique    0           1  \ntop     NaN  org_filter  \nfreq    NaN       14855  ",
      "text/html": "<div>\n<style scoped>\n    .dataframe tbody tr th:only-of-type {\n        vertical-align: middle;\n    }\n\n    .dataframe tbody tr th {\n        vertical-align: top;\n    }\n\n    .dataframe thead th {\n        text-align: right;\n    }\n</style>\n<table border=\"1\" class=\"dataframe\">\n  <thead>\n    <tr style=\"text-align: right;\">\n      <th></th>\n      <th>titles</th>\n      <th>target_text</th>\n      <th>input_text</th>\n      <th>esid</th>\n      <th>prefix</th>\n    </tr>\n  </thead>\n  <tbody>\n    <tr>\n      <th>count</th>\n      <td>0</td>\n      <td>14855</td>\n      <td>14855</td>\n      <td>0</td>\n      <td>14855</td>\n    </tr>\n    <tr>\n      <th>unique</th>\n      <td>0</td>\n      <td>2</td>\n      <td>10355</td>\n      <td>0</td>\n      <td>1</td>\n    </tr>\n    <tr>\n      <th>top</th>\n      <td>NaN</td>\n      <td>0</td>\n      <td>本文发布日期为2020年9月14日。【本文为投资界原创，网页转载须在文首注明来源投资界（微信...</td>\n      <td>NaN</td>\n      <td>org_filter</td>\n    </tr>\n    <tr>\n      <th>freq</th>\n      <td>NaN</td>\n      <td>13735</td>\n      <td>24</td>\n      <td>NaN</td>\n      <td>14855</td>\n    </tr>\n  </tbody>\n</table>\n</div>"
     },
     "execution_count": 133,
     "metadata": {},
     "output_type": "execute_result"
    }
   ],
   "source": [
    "org_filter_last = raw_last[raw_last['prefix']=='org_filter']\n",
    "org_filter_last.describe()"
   ],
   "metadata": {
    "collapsed": false,
    "pycharm": {
     "name": "#%%\n"
    }
   }
  },
  {
   "cell_type": "code",
   "execution_count": 134,
   "outputs": [
    {
     "data": {
      "text/plain": "date_cn     4143\npara_cn     4143\ndate_en    10712\npara_en    10712\ndtype: int64"
     },
     "execution_count": 134,
     "metadata": {},
     "output_type": "execute_result"
    }
   ],
   "source": [
    "pattern = r'(?:本文发布日期为(?P<date_cn>\\d+年\\d+月\\d+日)。(?P<para_cn>.*))|(?:This article was published on (?P<date_en>\\d+-\\d+-\\d+). (?P<para_en>.*))'\n",
    "org_filter_last['input_text'].str.extract(pattern).isna().sum()"
   ],
   "metadata": {
    "collapsed": false,
    "pycharm": {
     "name": "#%%\n"
    }
   }
  },
  {
   "cell_type": "code",
   "execution_count": 135,
   "outputs": [
    {
     "name": "stderr",
     "output_type": "stream",
     "text": [
      "<ipython-input-135-75897246989e>:4: SettingWithCopyWarning: \n",
      "A value is trying to be set on a copy of a slice from a DataFrame.\n",
      "Try using .loc[row_indexer,col_indexer] = value instead\n",
      "\n",
      "See the caveats in the documentation: https://pandas.pydata.org/pandas-docs/stable/user_guide/indexing.html#returning-a-view-versus-a-copy\n",
      "  org_filter_last['input_text'] = org_filter_last_ex['para_cn'].where(\n",
      "<ipython-input-135-75897246989e>:6: SettingWithCopyWarning: \n",
      "A value is trying to be set on a copy of a slice from a DataFrame.\n",
      "Try using .loc[row_indexer,col_indexer] = value instead\n",
      "\n",
      "See the caveats in the documentation: https://pandas.pydata.org/pandas-docs/stable/user_guide/indexing.html#returning-a-view-versus-a-copy\n",
      "  org_filter_last['publish_date'] = org_filter_last_ex['date_cn'].where(\n"
     ]
    }
   ],
   "source": [
    "org_filter_last_ex = org_filter_last['input_text'].str.extract(pattern)\n",
    "org_filter_last_ex['date_cn']=pd.to_datetime(org_filter_last_ex['date_cn'], format=\"%Y年%m月%d日\")\n",
    "org_filter_last_ex['date_en']=pd.to_datetime(org_filter_last_ex['date_en'], format=\"%Y-%m-%d\")\n",
    "org_filter_last['input_text'] = org_filter_last_ex['para_cn'].where(\n",
    "    org_filter_last_ex['para_cn'].notna(), org_filter_last_ex['para_en'])\n",
    "org_filter_last['publish_date'] = org_filter_last_ex['date_cn'].where(\n",
    "    org_filter_last_ex['date_cn'].notna(), org_filter_last_ex['date_en'])"
   ],
   "metadata": {
    "collapsed": false,
    "pycharm": {
     "name": "#%%\n"
    }
   }
  },
  {
   "cell_type": "code",
   "execution_count": 136,
   "outputs": [],
   "source": [
    "org_filter_to_check = org_filter_df\n",
    "org_filter_not_check = org_filter_last"
   ],
   "metadata": {
    "collapsed": false,
    "pycharm": {
     "name": "#%%\n"
    }
   }
  },
  {
   "cell_type": "code",
   "execution_count": 241,
   "outputs": [
    {
     "data": {
      "text/plain": "esid                0\nprefix              0\ntitles          18616\ninput_text          0\ntarget_text         0\npublish_date        0\ndtype: int64"
     },
     "execution_count": 241,
     "metadata": {},
     "output_type": "execute_result"
    }
   ],
   "source": [
    "org_filter_to_check.isna().sum()"
   ],
   "metadata": {
    "collapsed": false,
    "pycharm": {
     "name": "#%%\n"
    }
   }
  },
  {
   "cell_type": "code",
   "execution_count": 243,
   "outputs": [
    {
     "data": {
      "text/plain": "                                    esid        publish_date  \\\n570819  afd969d102dc4b589b674a35b9d95fec 2021-02-08 16:00:00   \n570823  afd969d102dc4b589b674a35b9d95fec 2021-02-08 16:00:00   \n570825  afd969d102dc4b589b674a35b9d95fec 2021-02-08 16:00:00   \n570827  afd969d102dc4b589b674a35b9d95fec 2021-02-08 16:00:00   \n570829  afd969d102dc4b589b674a35b9d95fec 2021-02-08 16:00:00   \n\n                                               paragraphs  predicted_label  \\\n570819  NEW YORK, Feb. 9, 2021 /PRNewswire/ -- Cambria...                0   \n570823  This launch coincides with the IPO of its port...                0   \n570825  Cambrian Biopharma announces $60M in funding t...                0   \n570827  Cambrian scientists are targeting the \"Nine Ha...                0   \n570829  \"Over the next decade, Cambrian aims to detect...                0   \n\n       true_label  \n570819       None  \n570823       None  \n570825       None  \n570827       None  \n570829       None  ",
      "text/html": "<div>\n<style scoped>\n    .dataframe tbody tr th:only-of-type {\n        vertical-align: middle;\n    }\n\n    .dataframe tbody tr th {\n        vertical-align: top;\n    }\n\n    .dataframe thead th {\n        text-align: right;\n    }\n</style>\n<table border=\"1\" class=\"dataframe\">\n  <thead>\n    <tr style=\"text-align: right;\">\n      <th></th>\n      <th>esid</th>\n      <th>publish_date</th>\n      <th>paragraphs</th>\n      <th>predicted_label</th>\n      <th>true_label</th>\n    </tr>\n  </thead>\n  <tbody>\n    <tr>\n      <th>570819</th>\n      <td>afd969d102dc4b589b674a35b9d95fec</td>\n      <td>2021-02-08 16:00:00</td>\n      <td>NEW YORK, Feb. 9, 2021 /PRNewswire/ -- Cambria...</td>\n      <td>0</td>\n      <td>None</td>\n    </tr>\n    <tr>\n      <th>570823</th>\n      <td>afd969d102dc4b589b674a35b9d95fec</td>\n      <td>2021-02-08 16:00:00</td>\n      <td>This launch coincides with the IPO of its port...</td>\n      <td>0</td>\n      <td>None</td>\n    </tr>\n    <tr>\n      <th>570825</th>\n      <td>afd969d102dc4b589b674a35b9d95fec</td>\n      <td>2021-02-08 16:00:00</td>\n      <td>Cambrian Biopharma announces $60M in funding t...</td>\n      <td>0</td>\n      <td>None</td>\n    </tr>\n    <tr>\n      <th>570827</th>\n      <td>afd969d102dc4b589b674a35b9d95fec</td>\n      <td>2021-02-08 16:00:00</td>\n      <td>Cambrian scientists are targeting the \"Nine Ha...</td>\n      <td>0</td>\n      <td>None</td>\n    </tr>\n    <tr>\n      <th>570829</th>\n      <td>afd969d102dc4b589b674a35b9d95fec</td>\n      <td>2021-02-08 16:00:00</td>\n      <td>\"Over the next decade, Cambrian aims to detect...</td>\n      <td>0</td>\n      <td>None</td>\n    </tr>\n  </tbody>\n</table>\n</div>"
     },
     "execution_count": 243,
     "metadata": {},
     "output_type": "execute_result"
    }
   ],
   "source": [
    "org_filter_to_check_df = org_filter_to_check[['esid', 'publish_date', 'input_text', 'target_text']].rename(\n",
    "    columns={'input_text': 'paragraphs', 'target_text': 'predicted_label'}\n",
    ")\n",
    "org_filter_to_check_df['predicted_label'] = org_filter_to_check_df['predicted_label'].astype(int)\n",
    "org_filter_to_check_df['true_label'] = None\n",
    "org_filter_to_check_df.head()"
   ],
   "metadata": {
    "collapsed": false,
    "pycharm": {
     "name": "#%%\n"
    }
   }
  },
  {
   "cell_type": "markdown",
   "source": [
    "#### org_ner"
   ],
   "metadata": {
    "collapsed": false,
    "pycharm": {
     "name": "#%% md\n"
    }
   }
  },
  {
   "cell_type": "code",
   "execution_count": 216,
   "outputs": [],
   "source": [
    "org_ner_df = raw_df[raw_df['prefix'].str.startswith('org_ner')]"
   ],
   "metadata": {
    "collapsed": false,
    "pycharm": {
     "name": "#%%\n"
    }
   }
  },
  {
   "cell_type": "code",
   "execution_count": 218,
   "outputs": [
    {
     "name": "stdout",
     "output_type": "stream",
     "text": [
      "<class 'pandas.core.frame.DataFrame'>\n",
      "Int64Index: 9699 entries, 570876 to 637540\n",
      "Data columns (total 6 columns):\n",
      " #   Column        Non-Null Count  Dtype         \n",
      "---  ------        --------------  -----         \n",
      " 0   esid          9699 non-null   object        \n",
      " 1   prefix        9699 non-null   object        \n",
      " 2   titles        0 non-null      object        \n",
      " 3   input_text    9699 non-null   object        \n",
      " 4   target_text   9699 non-null   object        \n",
      " 5   publish_date  0 non-null      datetime64[ns]\n",
      "dtypes: datetime64[ns](1), object(5)\n",
      "memory usage: 530.4+ KB\n"
     ]
    }
   ],
   "source": [
    "org_ner_df.info()"
   ],
   "metadata": {
    "collapsed": false,
    "pycharm": {
     "name": "#%%\n"
    }
   }
  },
  {
   "cell_type": "code",
   "execution_count": 220,
   "outputs": [
    {
     "data": {
      "text/plain": "9699"
     },
     "execution_count": 220,
     "metadata": {},
     "output_type": "execute_result"
    }
   ],
   "source": [
    "org_ner_df['publish_date'].isnull().sum()"
   ],
   "metadata": {
    "collapsed": false,
    "pycharm": {
     "name": "#%%\n"
    }
   }
  },
  {
   "cell_type": "code",
   "execution_count": 228,
   "outputs": [],
   "source": [
    "org_ner_ex = org_ner_df['prefix'].str.split('.', expand=True)"
   ],
   "metadata": {
    "collapsed": false,
    "pycharm": {
     "name": "#%%\n"
    }
   }
  },
  {
   "cell_type": "code",
   "execution_count": 229,
   "outputs": [
    {
     "name": "stderr",
     "output_type": "stream",
     "text": [
      "<ipython-input-229-c48472a6773c>:1: SettingWithCopyWarning: \n",
      "A value is trying to be set on a copy of a slice from a DataFrame.\n",
      "Try using .loc[row_indexer,col_indexer] = value instead\n",
      "\n",
      "See the caveats in the documentation: https://pandas.pydata.org/pandas-docs/stable/user_guide/indexing.html#returning-a-view-versus-a-copy\n",
      "  org_ner_df['prefix'] = org_ner_ex.loc[:,0]\n",
      "<ipython-input-229-c48472a6773c>:2: SettingWithCopyWarning: \n",
      "A value is trying to be set on a copy of a slice from a DataFrame.\n",
      "Try using .loc[row_indexer,col_indexer] = value instead\n",
      "\n",
      "See the caveats in the documentation: https://pandas.pydata.org/pandas-docs/stable/user_guide/indexing.html#returning-a-view-versus-a-copy\n",
      "  org_ner_df['org_type'] = org_ner_ex.loc[:,1]\n"
     ]
    }
   ],
   "source": [
    "org_ner_df['prefix'] = org_ner_ex.loc[:,0]\n",
    "org_ner_df['org_type'] = org_ner_ex.loc[:,1]"
   ],
   "metadata": {
    "collapsed": false,
    "pycharm": {
     "name": "#%%\n"
    }
   }
  },
  {
   "cell_type": "code",
   "execution_count": 231,
   "outputs": [],
   "source": [
    "org_ner_to_check = org_ner_df[['prefix', 'input_text', 'org_type', 'target_text']]"
   ],
   "metadata": {
    "collapsed": false,
    "pycharm": {
     "name": "#%%\n"
    }
   }
  },
  {
   "cell_type": "markdown",
   "source": [
    "#### write to-check data"
   ],
   "metadata": {
    "collapsed": false,
    "pycharm": {
     "name": "#%% md\n"
    }
   }
  },
  {
   "cell_type": "code",
   "execution_count": 244,
   "outputs": [],
   "source": [
    "with pd.ExcelWriter('results/prophet_tocheck_v3_20210706.xlsx') as writer:\n",
    "    ira_filter_to_check.to_excel(writer, sheet_name='ira_filter', index=False)\n",
    "    org_filter_to_check_df.to_excel(writer, sheet_name='org_filter', index=False)"
   ],
   "metadata": {
    "collapsed": false,
    "pycharm": {
     "name": "#%%\n"
    }
   }
  },
  {
   "cell_type": "code",
   "execution_count": 271,
   "outputs": [],
   "source": [
    "ira_filter_to_check.to_csv('results/prophet_tocheck_ira_v3_20210707.csv')"
   ],
   "metadata": {
    "collapsed": false,
    "pycharm": {
     "name": "#%%\n"
    }
   }
  },
  {
   "cell_type": "markdown",
   "source": [
    "### Update checked data"
   ],
   "metadata": {
    "collapsed": false,
    "pycharm": {
     "name": "#%% md\n"
    }
   }
  },
  {
   "cell_type": "code",
   "execution_count": 85,
   "outputs": [],
   "source": [
    "checked_xlsx = \"raw_data/prophet_tocheck_v3_20210706已核对.xlsx\"\n",
    "with pd.ExcelFile(checked_xlsx) as f:\n",
    "    checked_ira_filter = pd.read_excel(f, sheet_name='ira_filter',\n",
    "                                       dtype={'predict_label': 'str', 'true_label': 'str'})\n",
    "    checked_org_filter = pd.read_excel(f, sheet_name='org_filter',\n",
    "                                       dtype={'predict_label': 'str', 'true_label': 'str'})"
   ],
   "metadata": {
    "collapsed": false,
    "pycharm": {
     "name": "#%%\n"
    }
   }
  },
  {
   "cell_type": "code",
   "execution_count": 86,
   "outputs": [],
   "source": [
    "column_mapper = {'true_label': 'target_text'}\n",
    "checked_ira_filter=checked_ira_filter.rename(columns=column_mapper)\n",
    "checked_ira_filter['prefix'] = 'ira_filter'\n",
    "checked_ira_filter['publish_date'] = checked_ira_filter['publish_date'].dt.tz_localize('utc').dt.tz_convert('Asia/Shanghai')\n",
    "checked_org_filter=checked_org_filter.rename(columns=column_mapper)\n",
    "checked_org_filter['prefix'] = 'org_filter'\n",
    "checked_org_filter['publish_date'] = checked_org_filter['publish_date'].dt.tz_localize('utc').dt.tz_convert('Asia/Shanghai')"
   ],
   "metadata": {
    "collapsed": false,
    "pycharm": {
     "name": "#%%\n"
    }
   }
  },
  {
   "cell_type": "code",
   "execution_count": 91,
   "outputs": [
    {
     "data": {
      "text/plain": "'This article was published on February, 09, 2021. Cambrian Biopharma announces $60M in funding to develop pipeline of companies, therapeutics to treat diseases of aging led-with-a-unique-operational-strategy-301224991.html\"> Tweet this Cambrian is embracing the idea of a \"DisCo,\" which works like a hub-and-spoke model to develop a family of companies, allowing them to thrive by building expert teams in drug discovery, development, clinical trials, finance, and market analysis as a shared resource for each pipeline company to use.  '"
     },
     "execution_count": 91,
     "metadata": {},
     "output_type": "execute_result"
    }
   ],
   "source": [
    "import langid\n",
    "def add_date_to_paragraph(date_, para):\n",
    "    lang_=langid.classify(para)[0]\n",
    "    if lang_=='zh':\n",
    "        res_para=f'本文发布日期为{date_.year}年{date_.month}月{date_.day}日。{para}'\n",
    "    else:\n",
    "        res_para=f'This article was published on {date_.strftime(\"%B, %d, %Y\")}. {para}'\n",
    "    return res_para\n",
    "\n",
    "\n",
    "test_entry = checked_ira_filter.iloc[2,:]\n",
    "test_res_para = add_date_to_paragraph(test_entry['publish_date'], test_entry['paragraphs'])\n",
    "test_res_para"
   ],
   "metadata": {
    "collapsed": false,
    "pycharm": {
     "name": "#%%\n"
    }
   }
  },
  {
   "cell_type": "code",
   "execution_count": 92,
   "outputs": [],
   "source": [
    "checked_ira_filter['input_text'] = checked_ira_filter.apply(\n",
    "    lambda row: add_date_to_paragraph(row['publish_date'], row['paragraphs']),\n",
    "    axis=1\n",
    ")"
   ],
   "metadata": {
    "collapsed": false,
    "pycharm": {
     "name": "#%%\n"
    }
   }
  },
  {
   "cell_type": "code",
   "execution_count": 94,
   "outputs": [],
   "source": [
    "checked_org_filter['input_text'] = checked_org_filter.apply(\n",
    "    lambda row: add_date_to_paragraph(row['publish_date'], row['paragraphs']),\n",
    "    axis=1\n",
    ")"
   ],
   "metadata": {
    "collapsed": false,
    "pycharm": {
     "name": "#%%\n"
    }
   }
  },
  {
   "cell_type": "code",
   "execution_count": 95,
   "outputs": [
    {
     "name": "stdout",
     "output_type": "stream",
     "text": [
      "<class 'pandas.core.frame.DataFrame'>\n",
      "RangeIndex: 18616 entries, 0 to 18615\n",
      "Data columns (total 7 columns):\n",
      " #   Column         Non-Null Count  Dtype                        \n",
      "---  ------         --------------  -----                        \n",
      " 0   esid           18616 non-null  object                       \n",
      " 1   publish_date   18616 non-null  datetime64[ns, Asia/Shanghai]\n",
      " 2   paragraphs     18616 non-null  object                       \n",
      " 3   predict_label  18616 non-null  object                       \n",
      " 4   target_text    18616 non-null  object                       \n",
      " 5   prefix         18616 non-null  object                       \n",
      " 6   input_text     18616 non-null  object                       \n",
      "dtypes: datetime64[ns, Asia/Shanghai](1), object(6)\n",
      "memory usage: 1018.2+ KB\n"
     ]
    }
   ],
   "source": [
    "checked_ira_filter.info()"
   ],
   "metadata": {
    "collapsed": false,
    "pycharm": {
     "name": "#%%\n"
    }
   }
  },
  {
   "cell_type": "code",
   "execution_count": 137,
   "outputs": [],
   "source": [
    "not_check_t5_data = raw_df[raw_df['prefix'].isin([\n",
    "    'news_filter', 'investee', 'round', 'amount'])|raw_df['prefix'].str.startswith('org_ner.')]\n",
    "total_raw_data = pd.concat([not_check_t5_data, checked_ira_filter, checked_org_filter, org_filter_not_check])"
   ],
   "metadata": {
    "collapsed": false,
    "pycharm": {
     "name": "#%%\n"
    }
   }
  },
  {
   "cell_type": "code",
   "execution_count": 150,
   "outputs": [],
   "source": [
    "total_raw_data = total_raw_data[\n",
    "    total_raw_data['prefix'].ne('news_filter')|total_raw_data['target_text'].isin(['医药','非医药','非相关'])\n",
    "]"
   ],
   "metadata": {
    "collapsed": false,
    "pycharm": {
     "name": "#%%\n"
    }
   }
  },
  {
   "cell_type": "code",
   "execution_count": 151,
   "outputs": [
    {
     "data": {
      "text/plain": "news_filter    276826\norg_filter      33471\nira_filter      18616\namount           9896\nround            9896\ninvestee         9896\norg_ner.c1       3219\norg_ner.c3       3165\norg_ner.c2       2161\nName: prefix, dtype: int64"
     },
     "execution_count": 151,
     "metadata": {},
     "output_type": "execute_result"
    }
   ],
   "source": [
    "total_raw_data['prefix'].value_counts()"
   ],
   "metadata": {
    "collapsed": false,
    "pycharm": {
     "name": "#%%\n"
    }
   }
  },
  {
   "cell_type": "markdown",
   "source": [
    "### train and eval dataset (upsampling)"
   ],
   "metadata": {
    "collapsed": false,
    "pycharm": {
     "name": "#%% md\n"
    }
   }
  },
  {
   "cell_type": "code",
   "execution_count": 152,
   "outputs": [],
   "source": [
    "from sklearn.model_selection import train_test_split\n",
    "train_df, eval_df = train_test_split(total_raw_data[['esid', 'prefix', 'input_text', 'target_text']],\n",
    "                                     test_size=0.1, random_state=713)"
   ],
   "metadata": {
    "collapsed": false,
    "pycharm": {
     "name": "#%%\n"
    }
   }
  },
  {
   "cell_type": "code",
   "execution_count": 153,
   "outputs": [
    {
     "data": {
      "text/plain": "0"
     },
     "execution_count": 153,
     "metadata": {},
     "output_type": "execute_result"
    }
   ],
   "source": [
    "((total_raw_data['prefix']=='news_filter')&(~total_raw_data['target_text'].isin(['医药','非医药','非相关']))).sum()"
   ],
   "metadata": {
    "collapsed": false,
    "pycharm": {
     "name": "#%%\n"
    }
   }
  },
  {
   "cell_type": "code",
   "execution_count": 154,
   "outputs": [
    {
     "data": {
      "text/plain": "news_filter    27651\norg_filter      3360\nira_filter      1830\nround           1037\namount          1002\ninvestee         976\norg_ner.c3       327\norg_ner.c1       306\norg_ner.c2       226\nName: prefix, dtype: int64"
     },
     "execution_count": 154,
     "metadata": {},
     "output_type": "execute_result"
    }
   ],
   "source": [
    "eval_df['prefix'].value_counts()"
   ],
   "metadata": {
    "collapsed": false,
    "pycharm": {
     "name": "#%%\n"
    }
   }
  },
  {
   "cell_type": "code",
   "execution_count": 155,
   "outputs": [],
   "source": [
    "news_filter_df = train_df[train_df['prefix']=='news_filter']\n",
    "ira_df = train_df[train_df['prefix'].isin(['investee', 'round', 'amount'])]\n",
    "ira_filter_df=train_df[train_df['prefix']=='ira_filter']\n",
    "org_filter_df=train_df[train_df['prefix']=='org_filter']\n",
    "org_ner_df = train_df[train_df['prefix'].str.startswith('org_ner')]"
   ],
   "metadata": {
    "collapsed": false,
    "pycharm": {
     "name": "#%%\n"
    }
   }
  },
  {
   "cell_type": "code",
   "execution_count": 157,
   "outputs": [
    {
     "data": {
      "text/plain": "非相关    195689\n医药      33716\n非医药     19770\nName: target_text, dtype: int64"
     },
     "execution_count": 157,
     "metadata": {},
     "output_type": "execute_result"
    }
   ],
   "source": [
    "news_filter_df['target_text'].value_counts()"
   ],
   "metadata": {
    "collapsed": false,
    "pycharm": {
     "name": "#%%\n"
    }
   }
  },
  {
   "cell_type": "code",
   "execution_count": 107,
   "outputs": [],
   "source": [
    "from sklearn.utils import resample\n",
    "\n",
    "def upsampling_t5_classification_dataset(df):\n",
    "    max_label_size = df['target_text'].value_counts().max()\n",
    "    res_df = pd.concat(\n",
    "        resample(d, n_samples=max_label_size, random_state=123) if d.shape[0]<max_label_size else d\n",
    "        for label, d in df.groupby('target_text')\n",
    "    )\n",
    "    return res_df"
   ],
   "metadata": {
    "collapsed": false,
    "pycharm": {
     "name": "#%%\n"
    }
   }
  },
  {
   "cell_type": "code",
   "execution_count": 143,
   "outputs": [],
   "source": [
    "news_filter_upsampled = upsampling_t5_classification_dataset(news_filter_df)\n",
    "ira_filter_upsampled = upsampling_t5_classification_dataset(ira_filter_df)\n",
    "org_filter_upsampled = upsampling_t5_classification_dataset(org_filter_df)\n",
    "\n",
    "train_cls_upsampled = pd.concat([news_filter_upsampled, ira_filter_upsampled,\n",
    "                                     ira_df, org_filter_upsampled, org_filter_df])"
   ],
   "metadata": {
    "collapsed": false,
    "pycharm": {
     "name": "#%%\n"
    }
   }
  },
  {
   "cell_type": "code",
   "execution_count": 144,
   "outputs": [
    {
     "name": "stdout",
     "output_type": "stream",
     "text": [
      "<class 'pandas.core.frame.DataFrame'>\n",
      "Int64Index: 731116 entries, 7848 to 12684\n",
      "Data columns (total 4 columns):\n",
      " #   Column       Non-Null Count   Dtype \n",
      "---  ------       --------------   ----- \n",
      " 0   esid         690946 non-null  object\n",
      " 1   prefix       731116 non-null  object\n",
      " 2   input_text   731116 non-null  object\n",
      " 3   target_text  731116 non-null  object\n",
      "dtypes: object(4)\n",
      "memory usage: 27.9+ MB\n"
     ]
    }
   ],
   "source": [
    "train_cls_upsampled.info()"
   ],
   "metadata": {
    "collapsed": false,
    "pycharm": {
     "name": "#%%\n"
    }
   }
  },
  {
   "cell_type": "code",
   "execution_count": 120,
   "outputs": [],
   "source": [
    "def balance_t5_prefix(df):\n",
    "    max_size = df['prefix'].value_counts().max()\n",
    "    res_df = pd.concat(\n",
    "        resample(d, n_samples=max_size, random_state=123) if d.shape[0]<max_size else d\n",
    "        for prefix, d in df.groupby('prefix')\n",
    "    )\n",
    "    res_df['prefix'].value_counts()\n",
    "    return res_df"
   ],
   "metadata": {
    "collapsed": false,
    "pycharm": {
     "name": "#%%\n"
    }
   }
  },
  {
   "cell_type": "code",
   "execution_count": 145,
   "outputs": [
    {
     "data": {
      "text/plain": "round          587493\norg_filter     587493\nnews_filter    587493\nira_filter     587493\ninvestee       587493\namount         587493\nName: prefix, dtype: int64"
     },
     "execution_count": 145,
     "metadata": {},
     "output_type": "execute_result"
    }
   ],
   "source": [
    "train_upsampled = balance_t5_prefix(train_cls_upsampled)\n",
    "train_upsampled['prefix'].value_counts()"
   ],
   "metadata": {
    "collapsed": false,
    "pycharm": {
     "name": "#%%\n"
    }
   }
  }
 ],
 "metadata": {
  "kernelspec": {
   "display_name": "Python 3",
   "language": "python",
   "name": "python3"
  },
  "language_info": {
   "codemirror_mode": {
    "name": "ipython",
    "version": 2
   },
   "file_extension": ".py",
   "mimetype": "text/x-python",
   "name": "python",
   "nbconvert_exporter": "python",
   "pygments_lexer": "ipython2",
   "version": "2.7.6"
  }
 },
 "nbformat": 4,
 "nbformat_minor": 0
}